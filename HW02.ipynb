{
 "cells": [
  {
   "cell_type": "code",
   "execution_count": 2,
   "id": "d9874b30",
   "metadata": {},
   "outputs": [
    {
     "data": {
      "text/plain": [
       "0.33389"
      ]
     },
     "execution_count": 2,
     "metadata": {},
     "output_type": "execute_result"
    }
   ],
   "source": [
    "import numpy as np\n",
    "\n",
    "# Constants\n",
    "all_door_options = [1, 2, 3]\n",
    "my_door_choice = 1  # Initial choice\n",
    "i_won = 0\n",
    "reps = 100000\n",
    "\n",
    "for _ in range(reps):\n",
    "    # Randomly choose the winning door\n",
    "    secret_winning_door = np.random.choice(all_door_options)\n",
    "    \n",
    "    # Doors left after the contestant's initial choice and revealing a goat\n",
    "    doors_to_reveal = [door for door in all_door_options if door != my_door_choice and door != secret_winning_door]\n",
    "    \n",
    "    # Randomly reveal one goat door\n",
    "    goat_door_reveal = np.random.choice(doors_to_reveal)\n",
    "    \n",
    "    # Remaining doors after revealing a goat\n",
    "    remaining_doors = [door for door in all_door_options if door != goat_door_reveal]\n",
    "    \n",
    "    # Switch to the only remaining door\n",
    "    my_door_choice = remaining_doors[0]\n",
    "\n",
    "    # Check if the contestant's new choice is the winning door\n",
    "    if my_door_choice == secret_winning_door:\n",
    "        i_won += 1\n",
    "\n",
    "# Calculate the winning probability\n",
    "i_won / reps\n"
   ]
  },
  {
   "cell_type": "markdown",
   "id": "86ccb233",
   "metadata": {},
   "source": [
    "# 3 and 4"
   ]
  },
  {
   "cell_type": "markdown",
   "id": "8e01993f",
   "metadata": {},
   "source": [
    "In this session, we explored a Monte Hall simulation code that models the classic Monty Hall problem. The discussion focused on understanding the logic behind the code, particularly the simulation process within a for loop.\n",
    "\n",
    "Key points included:\n",
    "\n",
    "Code Structure: The initial code simulates the game by randomly selecting a winning door, managing contestant choices, and revealing a goat door.\n",
    "\n",
    "Steps 6-8 Clarification: We broke down the process of revealing a goat door, restoring the winning door if necessary, and implementing the contestant’s switch strategy, highlighting how these steps lead to different outcomes based on initial choices.\n",
    "\n",
    "Streamlined Version: A simplified version of the simulation code was provided. This version employed list comprehensions for clarity, eliminated unnecessary checks, and used descriptive variable names, making the code more readable and easier to understand.\n",
    "\n",
    "Detailed Code Explanation: We examined a specific line of code that filters out the contestant’s choice and the winning door to identify which door can be revealed as a goat. This reinforced the game mechanics and the effectiveness of the simulation.\n",
    "\n",
    "Overall, the session enhanced understanding of the Monty Hall problem through code analysis and simplification techniques, demonstrating the statistical advantages of switching choices in the game."
   ]
  },
  {
   "cell_type": "markdown",
   "id": "7c34edf1",
   "metadata": {},
   "source": [
    "# 5"
   ]
  },
  {
   "cell_type": "markdown",
   "id": "988f8e96",
   "metadata": {},
   "source": [
    "### Summary of Markovian Chatbot Code Extensions\n",
    "\n",
    "In this session, we explored a Markovian chatbot implementation that utilizes word occurrence and transition tracking to generate responses based on input text. The original code counted single words and their subsequent words, allowing the chatbot to simulate simple conversations.\n",
    "\n",
    "#### Extension #1\n",
    "The first extension improved the chatbot's context awareness by:\n",
    "- Utilizing `defaultdict` to count pairs of consecutive words (bigrams) instead of single words.\n",
    "- Tracking which words followed these two-word combinations, enabling the chatbot to generate more coherent responses based on the context.\n",
    "\n",
    "#### Extension #2\n",
    "The second extension introduced character-specific dialogue generation by:\n",
    "- Using `Counter` to tally occurrences of characters from a dataset, allowing the chatbot to adopt different styles based on the character speaking.\n",
    "- Implementing a nested `defaultdict` structure to maintain counts of word pairs and their subsequent words, specific to each character.\n",
    "\n",
    "### Key Improvements\n",
    "- **Enhanced Context Understanding**: By focusing on word pairs and character-specific dialogue, the chatbot can generate more relevant and engaging responses.\n",
    "- **Flexibility**: The ability to tailor responses based on characters adds depth to interactions, improving the overall user experience.\n",
    "\n",
    "This session highlighted the importance of context and character differentiation in creating more sophisticated and realistic chatbot interactions."
   ]
  },
  {
   "cell_type": "markdown",
   "id": "3a69f559",
   "metadata": {},
   "source": [
    "### Summary: Markovian Chatbot Development\n",
    "\n",
    "**Objective**: To understand the creation of a Markovian chatbot model that incorporates character identities and predicts word sequences.\n",
    "\n",
    "#### Part 1: Initial Code Overview\n",
    "- The initial code sets up the foundational elements of a chatbot by counting word occurrences and tracking which words typically follow others. This establishes a basic framework for generating text based on word probabilities.\n",
    "\n",
    "#### Part 2: Code Extension\n",
    "- The extension focuses on processing character data, utilizing a `Counter` to tally character occurrences while transforming the text for consistency. This approach adds depth to the model by introducing character-based context.\n",
    "\n",
    "- A nested `defaultdict` structure is employed to manage word usage and predict subsequent words for each character, enhancing the chatbot’s ability to generate contextually relevant responses.\n",
    "\n",
    "#### Conclusion\n",
    "This session highlighted the development of a sophisticated Markovian chatbot that leverages character context for more nuanced interactions. Future exploration could involve testing the model with different datasets or refining its response generation strategies."
   ]
  },
  {
   "cell_type": "markdown",
   "id": "9fca4ac7",
   "metadata": {},
   "source": [
    "# 6\n",
    "### Report on your experience interacting with ChatBots to understand the Monte Hall problem and \"Markovian ChatBot\" code\n",
    "1. The chatbot generally provided immediate responses and they were mostly helpful albeit a bit complicated sometimes.\n",
    "2. It may be a little time-consuming sometimes but not necessarily unhelpful.\n",
    "3. A chatbot may help in writing code as it saves a lot of time. It can help understand code to a certain extent and more interactively than a textbook, though it may ignore the scope of the course sometimes."
   ]
  },
  {
   "cell_type": "markdown",
   "id": "68b2cbbe",
   "metadata": {},
   "source": [
    "# 7\n",
    "### Reflect on your experience interacting with ChatBot and describe how your perception of AI-driven assistance tools in the context of learning coding, statistics, and data science has been evolving (or not) since joining the course\n",
    "It has deeply changed my views towards learning in general since I haven't had any experience regarding any sort of interactive textbook so it can open new doors for people looking to learn more without overly consulting others, as well as delving into topics of interest more easily"
   ]
  },
  {
   "cell_type": "markdown",
   "id": "c3d772ca",
   "metadata": {},
   "source": [
    "# 8\n",
    "### ChatBots consume text data available on the web or platforms, and thus represents a new way to \"search consensensus\" that condenses and summarizes mainstream human thought"
   ]
  },
  {
   "cell_type": "markdown",
   "id": "4a577c5d",
   "metadata": {},
   "source": [
    "### Summary of Skills in Data Science, Mathematical Research, Game Development, and App Development\n",
    "\n",
    "This session explored the importance of key skills in various fields:\n",
    "\n",
    "1. **Data Science**: Essential skills include learning and adaptability, communication, coding (e.g., Python, R), and statistics. These enable data professionals to derive insights, collaborate effectively, and adapt to evolving technologies.\n",
    "\n",
    "2. **Mathematical Research**: Critical skills involve advanced mathematics, statistical analysis, and programming. These facilitate problem-solving, innovation, and the development of new theories applicable across various domains.\n",
    "\n",
    "3. **Game Development**: Key skills include programming languages (C++, C#, etc.), graphics and animation, and game design principles. This blend of creativity and technical expertise is crucial for creating engaging gaming experiences.\n",
    "\n",
    "4. **App Development**: Important skills encompass mobile programming (Swift, Kotlin), UI/UX design, and knowledge of cloud services. Developers must innovate to meet user needs, contributing to a rapidly growing market.\n",
    "\n",
    "Overall, proficiency in these skills fosters adaptability, creativity, and critical thinking, essential for success in today's tech-driven landscape."
   ]
  },
  {
   "cell_type": "markdown",
   "id": "fb67aa72",
   "metadata": {},
   "source": [
    "4&5. Since I would like to pursue a career in data science, I also included some alternative careers based on my interests and learned about the various intersections and differences between them. Jointly learning maths, coding and statistics through various university courses, participating in hackathons and olympiads, and joining different clubs or research groups could help in that regard."
   ]
  }
 ],
 "metadata": {
  "kernelspec": {
   "display_name": "Python 3 (ipykernel)",
   "language": "python",
   "name": "python3"
  },
  "language_info": {
   "codemirror_mode": {
    "name": "ipython",
    "version": 3
   },
   "file_extension": ".py",
   "mimetype": "text/x-python",
   "name": "python",
   "nbconvert_exporter": "python",
   "pygments_lexer": "ipython3",
   "version": "3.11.6"
  }
 },
 "nbformat": 4,
 "nbformat_minor": 5
}
