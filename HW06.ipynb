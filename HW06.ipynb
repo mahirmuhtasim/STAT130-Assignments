{
 "cells": [
  {
   "cell_type": "markdown",
   "id": "49cc8cd7",
   "metadata": {},
   "source": [
    "## \"Week of Oct21\" HW [*due prior to the Nov08 TUT*]"
   ]
  },
  {
   "cell_type": "markdown",
   "id": "d8140d3a",
   "metadata": {},
   "source": [
    "### 1. Explain the theoretical Simple Linear Regression model in your own words by describing its components (of predictor and outcome variables, slope and intercept coefficients, and an error term) and how they combine to form a sample from normal distribution; then, create *python* code explicitly demonstrating your explanation using *numpy* and *scipy.stats* <br>\n"
   ]
  },
  {
   "cell_type": "markdown",
   "id": "4bd7f281",
   "metadata": {},
   "source": [
    "A simple linear regression is a model used to describe two variables that are lineraly dependent on each other. It can be represented as an equation: <br>\n",
    "    <center> Y = $\\beta$$_0$ + $\\beta$$_1$X + $\\epsilon$ </center>\n",
    "- Here the variable Y refers to the dependent or outcome variable which is the variable being measured with every test. The aim of the is to predict the nature of the dependent variable.\n",
    "- The variable X refers to the independent or predictor variable, which is the variable within the control of the experimenter. This value is varied to measure the value of Y at different values of X to show linear correlation between the variables. In a Simple Linear Regression model, there's only one independent variable.\n",
    "- $\\beta$$_0$ is the intercept, representing the value of Y when X equals zero. On a graph, this shows the point where the regression line crosses the Y axis.\n",
    "- $\\beta$$_1$ is the slope, representing the rate of change of outcome variable with respect to the predictor variable. Positive $\\beta$$_1$ implies positive correlation, while negative $\\beta$$_1$ implies negative correlation.\n",
    "- $\\epsilon$ is the error term, it represents the margin of error in the experiment or data collection that is not captured by the fitted distribution, so the error is included as difference between the observed value and predicted value. $\\epsilon$ is assumed to be normally distributed with a mean of zero and a fixed standard deviation, displaying randomness of the error."
   ]
  },
  {
   "cell_type": "code",
   "execution_count": 1,
   "id": "a1e73d39",
   "metadata": {},
   "outputs": [
    {
     "data": {
      "image/png": "[encoded data removed]",
      "text/plain": [
       "<Figure size 640x480 with 1 Axes>"
      ]
     },
     "metadata": {},
     "output_type": "display_data"
    }
   ],
   "source": [
    "import numpy as np\n",
    "from scipy.stats import norm\n",
    "import matplotlib.pyplot as plt\n",
    "\n",
    "# Parameters\n",
    "np.random.seed(0)  # For reproducibility\n",
    "beta_0 = 2         # Intercept\n",
    "beta_1 = 0.5       # Slope\n",
    "sigma = 1          # Standard deviation of the error term\n",
    "\n",
    "# Generate random predictor values (X)\n",
    "n = 100                      # Number of data points\n",
    "X = np.random.uniform(0, 10, n)\n",
    "\n",
    "# Generate the error term (epsilon) from a normal distribution\n",
    "epsilon = norm.rvs(loc=0, scale=sigma, size=n)\n",
    "\n",
    "# Calculate the outcome variable (Y)\n",
    "Y = beta_0 + beta_1 * X + epsilon\n",
    "\n",
    "# Plot the simulated data\n",
    "plt.scatter(X, Y, color='blue', label='Observed Data')\n",
    "plt.plot(X, beta_0 + beta_1 * X, color='red', label='True Regression Line')\n",
    "plt.xlabel('X')\n",
    "plt.ylabel('Y')\n",
    "plt.legend()\n",
    "plt.title('Simple Linear Regression Model')\n",
    "plt.show()\n"
   ]
  },
  {
   "cell_type": "markdown",
   "id": "8a0f9cdf",
   "metadata": {},
   "source": [
    "### 2. Use a dataset simulated from your theoretical Simple Linear Regression model to demonstrate how to create and visualize a fitted Simple Linear Regression model using *pandas* and *import statsmodels.formula.api as smf*<br>\n"
   ]
  },
  {
   "cell_type": "code",
   "execution_count": 13,
   "id": "41dda3e6",
   "metadata": {},
   "outputs": [
    {
     "name": "stdout",
     "output_type": "stream",
     "text": [
      "                            OLS Regression Results                            \n",
      "==============================================================================\n",
      "Dep. Variable:                      Y   R-squared:                       0.671\n",
      "Model:                            OLS   Adj. R-squared:                  0.668\n",
      "Method:                 Least Squares   F-statistic:                     200.0\n",
      "Date:                Fri, 08 Nov 2024   Prob (F-statistic):           2.09e-25\n",
      "Time:                        01:39:10   Log-Likelihood:                -141.51\n",
      "No. Observations:                 100   AIC:                             287.0\n",
      "Df Residuals:                      98   BIC:                             292.2\n",
      "Df Model:                           1                                         \n",
      "Covariance Type:            nonrobust                                         \n",
      "==============================================================================\n",
      "                 coef    std err          t      P>|t|      [0.025      0.975]\n",
      "------------------------------------------------------------------------------\n",
      "Intercept      2.2222      0.193     11.496      0.000       1.839       2.606\n",
      "X              0.4937      0.035     14.144      0.000       0.424       0.563\n",
      "==============================================================================\n",
      "Omnibus:                       11.746   Durbin-Watson:                   2.083\n",
      "Prob(Omnibus):                  0.003   Jarque-Bera (JB):                4.097\n",
      "Skew:                           0.138   Prob(JB):                        0.129\n",
      "Kurtosis:                       2.047   Cond. No.                         10.9\n",
      "==============================================================================\n",
      "\n",
      "Notes:\n",
      "[1] Standard Errors assume that the covariance matrix of the errors is correctly specified.\n"
     ]
    }
   ],
   "source": [
    "import numpy as np\n",
    "import pandas as pd\n",
    "import matplotlib.pyplot as plt\n",
    "import statsmodels.formula.api as smf\n",
    "\n",
    "# Set random seed for reproducibility\n",
    "np.random.seed(0)\n",
    "\n",
    "# Parameters for the linear model\n",
    "beta_0 = 2      # Intercept\n",
    "beta_1 = 0.5    # Slope\n",
    "sigma = 1       # Standard deviation of the error term\n",
    "\n",
    "# Generate predictor variable X\n",
    "n = 100  # Number of observations\n",
    "X = np.random.uniform(0, 10, n)\n",
    "\n",
    "# Generate error term\n",
    "epsilon = np.random.normal(0, sigma, n)\n",
    "\n",
    "# Calculate the outcome variable Y\n",
    "Y = beta_0 + beta_1 * X + epsilon\n",
    "\n",
    "# Create a DataFrame to store the data\n",
    "data = pd.DataFrame({'X': X, 'Y': Y})\n",
    "\n",
    "# Fit the linear regression model\n",
    "model = smf.ols('Y ~ X', data=data).fit()\n",
    "\n",
    "# Print the summary of the model\n",
    "print(model.summary())\n"
   ]
  },
  {
   "cell_type": "code",
   "execution_count": 14,
   "id": "d42ce723",
   "metadata": {},
   "outputs": [
    {
     "data": {
      "image/png": "[encoded data removed]",
      "text/plain": [
       "<Figure size 640x480 with 1 Axes>"
      ]
     },
     "metadata": {},
     "output_type": "display_data"
    }
   ],
   "source": [
    "# Predict Y values using the fitted model\n",
    "data['Y_pred'] = model.predict(data['X'])\n",
    "\n",
    "# Plot the observed data points\n",
    "plt.scatter(data['X'], data['Y'], color='blue', label='Observed Data')\n",
    "\n",
    "# Plot the regression line\n",
    "plt.plot(data['X'], data['Y_pred'], color='red', label='Fitted Regression Line')\n",
    "\n",
    "# Add labels and title\n",
    "plt.xlabel('X')\n",
    "plt.ylabel('Y')\n",
    "plt.legend()\n",
    "plt.title('Simple Linear Regression Model Fit')\n",
    "plt.show()"
   ]
  },
  {
   "cell_type": "markdown",
   "id": "59b70bc0",
   "metadata": {},
   "source": [
    "### 3. Add the line from Question 1 on the figure of Question 2 and explain the difference between the nature of the two lines in your own words; *but, hint though: simulation of random sampling variation*<br>\n"
   ]
  },
  {
   "cell_type": "code",
   "execution_count": 4,
   "id": "aa0f1c10",
   "metadata": {},
   "outputs": [
    {
     "data": {
      "image/png": "[encoded data removed]",
      "text/plain": [
       "<Figure size 640x480 with 1 Axes>"
      ]
     },
     "metadata": {},
     "output_type": "display_data"
    }
   ],
   "source": [
    "# Plot the observed data points\n",
    "plt.scatter(data['X'], data['Y'], color='blue', label='Observed Data')\n",
    "\n",
    "# Plot the fitted regression line (from statsmodels)\n",
    "plt.plot(data['X'], data['Y_pred'], color='red', label='Fitted Regression Line')\n",
    "\n",
    "# Plot the true line (from the theoretical model)\n",
    "plt.plot(data['X'], beta_0 + beta_1 * data['X'], color='green', linestyle='--', label='True Regression Line')\n",
    "\n",
    "# Add labels and title\n",
    "plt.xlabel('X')\n",
    "plt.ylabel('Y')\n",
    "plt.legend()\n",
    "plt.title('Comparison of Fitted and True Regression Lines')\n",
    "plt.show()\n"
   ]
  },
  {
   "cell_type": "markdown",
   "id": "6e236c45",
   "metadata": {},
   "source": [
    "The true regression line above shows true distribution of the data based on the theoretical relationship between X and Y, when $\\beta$$_1$=2 and $\\beta$$_1$=0.5. This model reflects the actual distribution of data in a world with no error margins. This means that the assumption is that there is an infinite number of samples and there is no random variation within the samples, so the graph formed is a perfect fit.\n",
    "The fitted regression is formed from the collected sample data, using a method called Ordinary Least Square (OLS) regression. This shows a graph that is formed with all the errors of a sample collected in real life. While this is less representative of the true regression line, it is a reasonable estimate formed from the sample data above.\n",
    "The comparison between these lines shows us the margin of error in the estimated samples compared to the original population, so this helps us account for the error due to random error in measuring each sample. Since the real values of $\\beta$$_1$=2 and $\\beta$$_1$=0.5 are unknown in real life situations, reducing the error margin would help gain more accurate estimations of the true model of the population, typically by increasing the sample size for better accuracy."
   ]
  },
  {
   "cell_type": "markdown",
   "id": "04aabc9d",
   "metadata": {},
   "source": [
    "### Summary\n",
    "\n",
    "In this session, we covered several key aspects of Simple Linear Regression:\n",
    "\n",
    "Theoretical Model Explanation: We defined the Simple Linear Regression model with components like the predictor and outcome variables, slope and intercept coefficients, and the error term. We explained how these elements come together to describe a theoretical linear relationship between the variables, producing samples that include random variation.\n",
    "\n",
    "Data Simulation and Model Fitting: We generated a simulated dataset using known parameters for the theoretical model. Then, we used pandas and statsmodels to fit a regression model to this sample data. We examined the fitted model summary, which provides details like coefficient estimates, p-values, and R-squared.\n",
    "\n",
    "Visualization of Fitted vs. Theoretical Lines: We created a scatter plot with the fitted regression line and added the true line based on known parameters. This allowed us to visually compare the two, showing the effect of sampling variability on the fitted line.\n",
    "\n",
    "Importance of Comparing Fitted and Theoretical Lines: We discussed the significance of adding the theoretical line for comparison, as it helps us understand the difference between sample-based estimates and true population values. This adds a layer of insight that goes beyond using trendline='ols' alone.\n",
    "\n",
    "This session highlighted the process of moving from theory to practice in Simple Linear Regression, demonstrating the differences between theoretical models and sample-based estimates through visualization."
   ]
  },
  {
   "cell_type": "markdown",
   "id": "2b68e71c",
   "metadata": {},
   "source": [
    "### 4. Explain how *fitted_model.fittedvalues* are derived on the basis of *fitted_model.summary().tables[1]* (or more specifically  *fitted_model.params* or *fitted_model.params.values*)<br>\n"
   ]
  },
  {
   "cell_type": "markdown",
   "id": "0a7144b9",
   "metadata": {},
   "source": [
    "fitted_model.fittedvalues are a series of values representing the predicted linear regression model based on the sample data collected through a series of different calculations. In this case, fitted_model.params are the estimated values of $\\beta$$_0$ and $\\beta$$_1$ when the observed sample data is fitted into the distibution. These paramters are then used to compute each individual value of Y acccording to the fitted parameters, using the equation and plugging in each observed value of X. fitted_model.summary().tables[1] is a good way to display the necessary data, as it can display the parameter estimates of fitted_model.params, but also shows standard errors, t values and p values. This helps calcuate the values of fitted_model.fittedvalues and in turn visualize an estimate of the model."
   ]
  },
  {
   "cell_type": "markdown",
   "id": "3e9fdfa9",
   "metadata": {},
   "source": [
    "### 5. Explain concisely in your own words what line is chosen for the fitted model based on observed data using the \"ordinary least squares\" method (as is done by *trendline='ols'* and *smf.ols(...).fit()*) and why it requires \"squares\"<br>"
   ]
  },
  {
   "cell_type": "markdown",
   "id": "5e9a352a",
   "metadata": {},
   "source": [
    "The fitted line is chosen for the fitted model based on the observed data using \"ordinary least squares\" method which applies minimization of the sum of squared \"residuals\" to find the best fitted line. The \"residual\" is the difference between the observed value and the calculated value of Y according to the estimated parameters for linear regression. The visualization below shows every residual as a red dotted line and the trendline is selected such that the overall length of all these lines is as small as possible. Squares are used here since squres are all poisitive so they are a good way to make all differences positive, regardless of which side of the fitted model they are on. They also increase the effect of larger residuals, ensuring that the fitted model is close to all points rather than ignoring it in favor of keeping the average small. Lastly, the orange line is the true regression line we are trying to approximate here. The fitted model here provides reasonably close accuracy to the line, despite still varying somewhat due to the randomn variation of samples."
   ]
  },
  {
   "cell_type": "code",
   "execution_count": 8,
   "id": "db87f8cf",
   "metadata": {},
   "outputs": [
    {
     "data": {
      "image/png": "[encoded data removed]"
     },
     "metadata": {},
     "output_type": "display_data"
    }
   ],
   "source": [
    "import scipy.stats as stats\n",
    "import numpy as np\n",
    "import pandas as pd\n",
    "import statsmodels.formula.api as smf\n",
    "import plotly.express as px\n",
    "\n",
    "n,x_min,x_range,beta0,beta1,sigma = 20,5,5,2,3,5\n",
    "x = stats.uniform(x_min, x_range).rvs(size=n)\n",
    "errors = stats.norm(loc=0, scale=sigma).rvs(size=n)\n",
    "Y = beta0 + beta1 * x + errors\n",
    "\n",
    "df = pd.DataFrame({'x': x, 'y': Y})\n",
    "model_data_specification = smf.ols(\"y~x\", data=df) \n",
    "fitted_model = model_data_specification.fit() \n",
    "\n",
    "df['Data'] = 'Data' # hack to add data to legend \n",
    "fig = px.scatter(df, x='x',  y='y', color='Data', \n",
    "                 trendline='ols', title='y vs. x')\n",
    "\n",
    "# This is what `trendline='ols'` is\n",
    "fig.add_scatter(x=df['x'], y=fitted_model.fittedvalues,\n",
    "                line=dict(color='blue'), name=\"trendline='ols'\")\n",
    "\n",
    "x_range = np.array([df['x'].min(), df['x'].max()])\n",
    "y_line = beta0 + beta1 * x_range\n",
    "fig.add_scatter(x=x_range, y=y_line, mode='lines',\n",
    "                name=str(beta0)+' + '+str(beta1)+' * x', \n",
    "                line=dict(dash='dot', color='orange'))\n",
    "\n",
    "# Add vertical lines for residuals\n",
    "for i in range(len(df)):\n",
    "    fig.add_scatter(x=[df['x'][i], df['x'][i]],\n",
    "                    y=[fitted_model.fittedvalues[i], df['y'][i]],\n",
    "                    mode='lines',\n",
    "                    line=dict(color='red', dash='dash'),\n",
    "                    showlegend=False)\n",
    "    \n",
    "# Add horizontal line at y-bar\n",
    "fig.add_scatter(x=x_range, y=[df['y'].mean()]*2, mode='lines',\n",
    "                line=dict(color='black', dash='dot'), name='y-bar')\n",
    "\n",
    "fig.show(renderer=\"png\") "
   ]
  },
  {
   "cell_type": "markdown",
   "id": "dc5ba222",
   "metadata": {},
   "source": [
    "### 6. Explain why the first expression below can be interpreted as \"the proportion of variation in (outcome) Y explained by the model (i.e. _fitted_model.fittedvalues_)\"; and therefore, why _fitted_model.rsquared_ can be interpreted as a measure of the accuracy of the model; and, therefore what the two _np.corrcoef(...)[0,1]\\*\\*2_ expressions capture in the context of _Simple Linear Regression models_.\n",
    "\n",
    "1. `1-((Y-fitted_model.fittedvalues)**2).sum()/((Y-Y.mean())**2).sum()`\n",
    "2. `fitted_model.rsquared`\n",
    "3. `np.corrcoef(Y,fitted_model.fittedvalues)[0,1]**2`\n",
    "4. `np.corrcoef(Y,x)[0,1]**2`<br><br>\n"
   ]
  },
  {
   "cell_type": "markdown",
   "id": "72d72d6e",
   "metadata": {},
   "source": [
    "The first expression above is the formula for $R^2$, which is a measure of how well the model explains the variation in outcome variable Y. The equation ((Y-fitted_model.fittedvalues)**2).sum()/((Y-Y.mean())**2).sum() represents the sum of squares of residuals divided by the sum of squared differences about the mean of observed values $Y_i$. This is the proportion of total variation in Y unexplained by fitted model, and subtracting from 1 gives the proportion of total variation in Y explained by fitted model,  which is $R^2$. This is also returned simply through the fitted_model.rsquared code. The next code is also equivalent to these values, as in Simple Linear Regression the square of the correlation of the correlation between Y and the fitted values of X should be equal to the value of $R^2$. The last code is distinct however, since it measures the correlation between Y and the observed X values, considering X as an independent variable. This considers the amount of variation in X that is explained without considering the linear regression model, and thus can be used with the $R_2$ value to estimate the goodness of the fit of the model."
   ]
  },
  {
   "cell_type": "markdown",
   "id": "d821fd86",
   "metadata": {},
   "source": [
    "### 7. Indicate a couple of the assumptions of the *Simple Linear Regression* model specification that do not seem compatible with the example data below<br>\n"
   ]
  },
  {
   "cell_type": "code",
   "execution_count": 9,
   "id": "ec7fda0d",
   "metadata": {},
   "outputs": [
    {
     "data": {
      "image/png": "[encoded data removed]"
     },
     "metadata": {},
     "output_type": "display_data"
    }
   ],
   "source": [
    "import pandas as pd\n",
    "from scipy import stats\n",
    "import plotly.express as px\n",
    "from plotly.subplots import make_subplots\n",
    "\n",
    "# This data shows the relationship between the amount of fertilizer used and crop yield\n",
    "data = {'Amount of Fertilizer (kg) (x)': [1, 1.2, 1.4, 1.6, 1.8, 2, 2.2, 2.4, 2.6, \n",
    "                                          2.8, 3, 3.2, 3.4, 3.6, 3.8, 4, 4.2, 4.4, \n",
    "                                          4.6, 4.8, 5, 5.2, 5.4, 5.6, 5.8, 6, 6.2, \n",
    "                                          6.4, 6.6, 6.8, 7, 7.2, 7.4, 7.6, 7.8, 8, \n",
    "                                          8.2, 8.4, 8.6, 8.8,9, 9.2, 9.4, 9.6],\n",
    "        'Crop Yield (tons) (Y)': [18.7, 16.9, 16.1, 13.4, 48.4, 51.9, 31.8, 51.3, \n",
    "                                  63.9, 50.6, 58.7, 82.4, 66.7, 81.2, 96.5, 112.2, \n",
    "                                  132.5, 119.8, 127.7, 136.3, 148.5, 169.4, 177.9, \n",
    "                                  186.7, 198.1, 215.7, 230.7, 250.4, 258. , 267.8, \n",
    "                                  320.4, 302. , 307.2, 331.5, 375.3, 403.4, 393.5,\n",
    "                                  434.9, 431.9, 451.1, 491.2, 546.8, 546.4, 558.9]}\n",
    "df = pd.DataFrame(data)\n",
    "fig1 = px.scatter(df, x='Amount of Fertilizer (kg) (x)', y='Crop Yield (tons) (Y)',\n",
    "                  trendline='ols', title='Crop Yield vs. Amount of Fertilizer')\n",
    "\n",
    "# Perform linear regression using scipy.stats\n",
    "slope, intercept, r_value, p_value, std_err = \\\n",
    "    stats.linregress(df['Amount of Fertilizer (kg) (x)'], df['Crop Yield (tons) (Y)'])\n",
    "# Predict the values and calculate residuals\n",
    "y_hat = intercept + slope * df['Amount of Fertilizer (kg) (x)']\n",
    "residuals = df['Crop Yield (tons) (Y)'] - y_hat\n",
    "df['Residuals'] = residuals\n",
    "fig2 = px.histogram(df, x='Residuals', nbins=10, title='Histogram of Residuals',\n",
    "                    labels={'Residuals': 'Residuals'})\n",
    "\n",
    "fig = make_subplots(rows=1, cols=2,\n",
    "                    subplot_titles=('Crop Yield vs. Amount of Fertilizer', \n",
    "                                    'Histogram of Residuals'))\n",
    "for trace in fig1.data:\n",
    "    fig.add_trace(trace, row=1, col=1)\n",
    "for trace in fig2.data:\n",
    "    fig.add_trace(trace, row=1, col=2)\n",
    "fig.update_layout(title='Scatter Plot and Histogram of Residuals',\n",
    "    xaxis_title='Amount of Fertilizer (kg)', yaxis_title='Crop Yield (tons)',\n",
    "    xaxis2_title='Residuals', yaxis2_title='Frequency', showlegend=False)\n",
    "\n",
    "fig.show(renderer=\"png\")"
   ]
  },
  {
   "cell_type": "markdown",
   "id": "b55efe2a",
   "metadata": {},
   "source": [
    "1. The assumption of linearity does not hold since the scatter plot shows an obvious curve in the correlation between Crop Yield and Amount of Fertilizer\n",
    "2. The assumption of normality in distribution of residuals also doesn't hold, since the histogram shows a distinctly not normal distribution of residuals. "
   ]
  },
  {
   "cell_type": "markdown",
   "id": "7bddc418",
   "metadata": {},
   "source": [
    "## Summary of Session on Simple Linear Regression\n",
    "\n",
    "In this session, we explored various aspects of Simple Linear Regression (SLR) and its assumptions, focusing on the interpretation and analysis of fitted models, residuals, and the proportion of variation explained by the model. Here's a summary of the key points:\n",
    "\n",
    "1. **Simple Linear Regression (SLR) Explanation**:\n",
    "   - We discussed the components of the SLR model, including the predictor and outcome variables, the slope and intercept coefficients, and the error term.\n",
    "   - We explained the interpretation of the \"ordinary least squares\" (OLS) method for fitting the model and how it minimizes the sum of squared residuals.\n",
    "\n",
    "2. **Proportion of Variation Explained (R-squared)**:\n",
    "   - We reviewed how R-squared, as a measure of the model's accuracy, reflects the proportion of variation in the outcome \\( Y \\) explained by the model. This was illustrated using the formula \\( 1 - \\frac{\\sum (Y_i - \\hat{y}_i)^2}{\\sum (Y_i - \\bar{Y})^2} \\) and its connection to \\( \\text{np.corrcoef}(Y, \\hat{Y})^2 \\).\n",
    "\n",
    "3. **Assumptions of the Simple Linear Regression Model**:\n",
    "   - We discussed the assumptions underlying the SLR model, including the normality of residuals.\n",
    "   - You provided an example with crop yield data and fertilizer amount. We examined the residuals' histogram and concluded that the assumption of normality of residuals might not hold, based on the shape of the distribution.\n",
    "\n",
    "4. **Interpretation of Residuals and Model Fit**:\n",
    "   - The importance of checking residuals' distribution to validate model assumptions was highlighted.\n",
    "   - We clarified that the histogram of residuals should ideally be approximately normal, and significant deviations from this indicate potential issues with the model or its assumptions.\n",
    "\n",
    "This session provided insight into the interpretation and testing of Simple Linear Regression models, focusing on model fit, residuals, and diagnostic checks.\n"
   ]
  },
  {
   "cell_type": "markdown",
   "id": "a977ba64",
   "metadata": {},
   "source": [
    "## \"Week of Nov04\" HW [due prior to the Nov08 TUT]\n",
    "\n",
    "_**In place of the \"Data Analysis Assignment\" format we introduced for the previous weeks' HW, the remaining questions will be a collection of exercises based around the following data**_\n",
    "\n",
    "> The details of the \"LOWESS Trendline\" shown below are not a part of the intended scope of the activities here, but it is included since it is suggestive of the questions we will consider and address here\n"
   ]
  },
  {
   "cell_type": "code",
   "execution_count": 15,
   "id": "a29449cd",
   "metadata": {},
   "outputs": [
    {
     "data": {
      "application/vnd.plotly.v1+json": {
       "config": {
        "plotlyServerURL": "https://plot.ly"
       },
       "data": [
        {
         "hovertemplate": "waiting=%{x}<br>duration=%{y}<extra></extra>",
         "legendgroup": "",
         "marker": {
          "color": "#636efa",
          "symbol": "circle"
         },
         "mode": "markers",
         "name": "",
         "orientation": "v",
         "showlegend": false,
         "type": "scatter",
         "x": [
          79,
          54,
          74,
          62,
          85,
          55,
          88,
          85,
          51,
          85,
          54,
          84,
          78,
          47,
          83,
          52,
          62,
          84,
          52,
          79,
          51,
          47,
          78,
          69,
          74,
          83,
          55,
          76,
          78,
          79,
          73,
          77,
          66,
          80,
          74,
          52,
          48,
          80,
          59,
          90,
          80,
          58,
          84,
          58,
          73,
          83,
          64,
          53,
          82,
          59,
          75,
          90,
          54,
          80,
          54,
          83,
          71,
          64,
          77,
          81,
          59,
          84,
          48,
          82,
          60,
          92,
          78,
          78,
          65,
          73,
          82,
          56,
          79,
          71,
          62,
          76,
          60,
          78,
          76,
          83,
          75,
          82,
          70,
          65,
          73,
          88,
          76,
          80,
          48,
          86,
          60,
          90,
          50,
          78,
          63,
          72,
          84,
          75,
          51,
          82,
          62,
          88,
          49,
          83,
          81,
          47,
          84,
          52,
          86,
          81,
          75,
          59,
          89,
          79,
          59,
          81,
          50,
          85,
          59,
          87,
          53,
          69,
          77,
          56,
          88,
          81,
          45,
          82,
          55,
          90,
          45,
          83,
          56,
          89,
          46,
          82,
          51,
          86,
          53,
          79,
          81,
          60,
          82,
          77,
          76,
          59,
          80,
          49,
          96,
          53,
          77,
          77,
          65,
          81,
          71,
          70,
          81,
          93,
          53,
          89,
          45,
          86,
          58,
          78,
          66,
          76,
          63,
          88,
          52,
          93,
          49,
          57,
          77,
          68,
          81,
          81,
          73,
          50,
          85,
          74,
          55,
          77,
          83,
          83,
          51,
          78,
          84,
          46,
          83,
          55,
          81,
          57,
          76,
          84,
          77,
          81,
          87,
          77,
          51,
          78,
          60,
          82,
          91,
          53,
          78,
          46,
          77,
          84,
          49,
          83,
          71,
          80,
          49,
          75,
          64,
          76,
          53,
          94,
          55,
          76,
          50,
          82,
          54,
          75,
          78,
          79,
          78,
          78,
          70,
          79,
          70,
          54,
          86,
          50,
          90,
          54,
          54,
          77,
          79,
          64,
          75,
          47,
          86,
          63,
          85,
          82,
          57,
          82,
          67,
          74,
          54,
          83,
          73,
          73,
          88,
          80,
          71,
          83,
          56,
          79,
          78,
          84,
          58,
          83,
          43,
          60,
          75,
          81,
          46,
          90,
          46,
          74
         ],
         "xaxis": "x",
         "y": [
          3.6,
          1.8,
          3.333,
          2.283,
          4.533,
          2.883,
          4.7,
          3.6,
          1.95,
          4.35,
          1.833,
          3.917,
          4.2,
          1.75,
          4.7,
          2.167,
          1.75,
          4.8,
          1.6,
          4.25,
          1.8,
          1.75,
          3.45,
          3.067,
          4.533,
          3.6,
          1.967,
          4.083,
          3.85,
          4.433,
          4.3,
          4.467,
          3.367,
          4.033,
          3.833,
          2.017,
          1.867,
          4.833,
          1.833,
          4.783,
          4.35,
          1.883,
          4.567,
          1.75,
          4.533,
          3.317,
          3.833,
          2.1,
          4.633,
          2,
          4.8,
          4.716,
          1.833,
          4.833,
          1.733,
          4.883,
          3.717,
          1.6669999999999998,
          4.567,
          4.317,
          2.233,
          4.5,
          1.75,
          4.8,
          1.817,
          4.4,
          4.167,
          4.7,
          2.067,
          4.7,
          4.033,
          1.967,
          4.5,
          4,
          1.983,
          5.067,
          2.017,
          4.567,
          3.883,
          3.6,
          4.133,
          4.333,
          4.1,
          2.633,
          4.067,
          4.933,
          3.95,
          4.517,
          2.167,
          4,
          2.2,
          4.333,
          1.867,
          4.817,
          1.833,
          4.3,
          4.667,
          3.75,
          1.867,
          4.9,
          2.483,
          4.367,
          2.1,
          4.5,
          4.05,
          1.867,
          4.7,
          1.783,
          4.85,
          3.683,
          4.7330000000000005,
          2.3,
          4.9,
          4.417,
          1.7,
          4.633,
          2.317,
          4.6,
          1.817,
          4.417,
          2.617,
          4.067,
          4.25,
          1.967,
          4.6,
          3.767,
          1.917,
          4.5,
          2.267,
          4.65,
          1.867,
          4.167,
          2.8,
          4.333,
          1.833,
          4.383,
          1.883,
          4.933,
          2.033,
          3.733,
          4.2330000000000005,
          2.233,
          4.533,
          4.817,
          4.333,
          1.983,
          4.633,
          2.017,
          5.1,
          1.8,
          5.033,
          4,
          2.4,
          4.6,
          3.567,
          4,
          4.5,
          4.083,
          1.8,
          3.967,
          2.2,
          4.15,
          2,
          3.833,
          3.5,
          4.583,
          2.367,
          5,
          1.933,
          4.617,
          1.917,
          2.083,
          4.583,
          3.333,
          4.167,
          4.333,
          4.5,
          2.417,
          4,
          4.167,
          1.883,
          4.583,
          4.25,
          3.767,
          2.033,
          4.433,
          4.083,
          1.833,
          4.417,
          2.1830000000000003,
          4.8,
          1.833,
          4.8,
          4.1,
          3.966,
          4.2330000000000005,
          3.5,
          4.3660000000000005,
          2.25,
          4.667,
          2.1,
          4.35,
          4.133,
          1.867,
          4.6,
          1.783,
          4.367,
          3.85,
          1.933,
          4.5,
          2.383,
          4.7,
          1.867,
          3.833,
          3.417,
          4.2330000000000005,
          2.4,
          4.8,
          2,
          4.15,
          1.867,
          4.267,
          1.75,
          4.4830000000000005,
          4,
          4.117,
          4.083,
          4.267,
          3.917,
          4.55,
          4.083,
          2.417,
          4.183,
          2.217,
          4.45,
          1.883,
          1.85,
          4.283,
          3.95,
          2.333,
          4.15,
          2.35,
          4.933,
          2.9,
          4.583,
          3.833,
          2.083,
          4.367,
          2.133,
          4.35,
          2.2,
          4.45,
          3.567,
          4.5,
          4.15,
          3.817,
          3.917,
          4.45,
          2,
          4.283,
          4.767,
          4.533,
          1.85,
          4.25,
          1.983,
          2.25,
          4.75,
          4.117,
          2.15,
          4.417,
          1.817,
          4.467
         ],
         "yaxis": "y"
        },
        {
         "hovertemplate": "<b>OLS trendline</b><br>duration = 0.0756279 * waiting + -1.87402<br>R<sup>2</sup>=0.811461<br><br>waiting=%{x}<br>duration=%{y} <b>(trend)</b><extra></extra>",
         "legendgroup": "",
         "marker": {
          "color": "#636efa",
          "symbol": "circle"
         },
         "mode": "lines",
         "name": "",
         "showlegend": false,
         "type": "scatter",
         "x": [
          43,
          45,
          45,
          45,
          46,
          46,
          46,
          46,
          46,
          47,
          47,
          47,
          47,
          48,
          48,
          48,
          49,
          49,
          49,
          49,
          49,
          50,
          50,
          50,
          50,
          50,
          51,
          51,
          51,
          51,
          51,
          51,
          52,
          52,
          52,
          52,
          52,
          53,
          53,
          53,
          53,
          53,
          53,
          53,
          54,
          54,
          54,
          54,
          54,
          54,
          54,
          54,
          54,
          55,
          55,
          55,
          55,
          55,
          55,
          56,
          56,
          56,
          56,
          57,
          57,
          57,
          58,
          58,
          58,
          58,
          59,
          59,
          59,
          59,
          59,
          59,
          59,
          60,
          60,
          60,
          60,
          60,
          60,
          62,
          62,
          62,
          62,
          63,
          63,
          63,
          64,
          64,
          64,
          64,
          65,
          65,
          65,
          66,
          66,
          67,
          68,
          69,
          69,
          70,
          70,
          70,
          70,
          71,
          71,
          71,
          71,
          71,
          72,
          73,
          73,
          73,
          73,
          73,
          73,
          73,
          74,
          74,
          74,
          74,
          74,
          74,
          75,
          75,
          75,
          75,
          75,
          75,
          75,
          75,
          76,
          76,
          76,
          76,
          76,
          76,
          76,
          76,
          76,
          77,
          77,
          77,
          77,
          77,
          77,
          77,
          77,
          77,
          77,
          77,
          77,
          78,
          78,
          78,
          78,
          78,
          78,
          78,
          78,
          78,
          78,
          78,
          78,
          78,
          78,
          78,
          79,
          79,
          79,
          79,
          79,
          79,
          79,
          79,
          79,
          79,
          80,
          80,
          80,
          80,
          80,
          80,
          80,
          80,
          81,
          81,
          81,
          81,
          81,
          81,
          81,
          81,
          81,
          81,
          81,
          81,
          81,
          82,
          82,
          82,
          82,
          82,
          82,
          82,
          82,
          82,
          82,
          82,
          82,
          83,
          83,
          83,
          83,
          83,
          83,
          83,
          83,
          83,
          83,
          83,
          83,
          83,
          83,
          84,
          84,
          84,
          84,
          84,
          84,
          84,
          84,
          84,
          84,
          85,
          85,
          85,
          85,
          85,
          85,
          86,
          86,
          86,
          86,
          86,
          86,
          87,
          87,
          88,
          88,
          88,
          88,
          88,
          88,
          89,
          89,
          89,
          90,
          90,
          90,
          90,
          90,
          90,
          91,
          92,
          93,
          93,
          94,
          96
         ],
         "xaxis": "x",
         "y": [
          1.3779857755193614,
          1.5292416714230868,
          1.5292416714230868,
          1.5292416714230868,
          1.6048696193749494,
          1.6048696193749494,
          1.6048696193749494,
          1.6048696193749494,
          1.6048696193749494,
          1.680497567326812,
          1.680497567326812,
          1.680497567326812,
          1.680497567326812,
          1.7561255152786748,
          1.7561255152786748,
          1.7561255152786748,
          1.8317534632305374,
          1.8317534632305374,
          1.8317534632305374,
          1.8317534632305374,
          1.8317534632305374,
          1.9073814111824001,
          1.9073814111824001,
          1.9073814111824001,
          1.9073814111824001,
          1.9073814111824001,
          1.9830093591342628,
          1.9830093591342628,
          1.9830093591342628,
          1.9830093591342628,
          1.9830093591342628,
          1.9830093591342628,
          2.0586373070861255,
          2.0586373070861255,
          2.0586373070861255,
          2.0586373070861255,
          2.0586373070861255,
          2.1342652550379886,
          2.1342652550379886,
          2.1342652550379886,
          2.1342652550379886,
          2.1342652550379886,
          2.1342652550379886,
          2.1342652550379886,
          2.2098932029898513,
          2.2098932029898513,
          2.2098932029898513,
          2.2098932029898513,
          2.2098932029898513,
          2.2098932029898513,
          2.2098932029898513,
          2.2098932029898513,
          2.2098932029898513,
          2.285521150941714,
          2.285521150941714,
          2.285521150941714,
          2.285521150941714,
          2.285521150941714,
          2.285521150941714,
          2.3611490988935766,
          2.3611490988935766,
          2.3611490988935766,
          2.3611490988935766,
          2.4367770468454393,
          2.4367770468454393,
          2.4367770468454393,
          2.512404994797302,
          2.512404994797302,
          2.512404994797302,
          2.512404994797302,
          2.5880329427491646,
          2.5880329427491646,
          2.5880329427491646,
          2.5880329427491646,
          2.5880329427491646,
          2.5880329427491646,
          2.5880329427491646,
          2.6636608907010273,
          2.6636608907010273,
          2.6636608907010273,
          2.6636608907010273,
          2.6636608907010273,
          2.6636608907010273,
          2.8149167866047526,
          2.8149167866047526,
          2.8149167866047526,
          2.8149167866047526,
          2.8905447345566153,
          2.8905447345566153,
          2.8905447345566153,
          2.966172682508478,
          2.966172682508478,
          2.966172682508478,
          2.966172682508478,
          3.0418006304603407,
          3.0418006304603407,
          3.0418006304603407,
          3.1174285784122033,
          3.1174285784122033,
          3.193056526364066,
          3.2686844743159287,
          3.3443124222677914,
          3.3443124222677914,
          3.419940370219654,
          3.419940370219654,
          3.419940370219654,
          3.419940370219654,
          3.4955683181715167,
          3.4955683181715167,
          3.4955683181715167,
          3.4955683181715167,
          3.4955683181715167,
          3.5711962661233794,
          3.646824214075242,
          3.646824214075242,
          3.646824214075242,
          3.646824214075242,
          3.646824214075242,
          3.646824214075242,
          3.646824214075242,
          3.7224521620271047,
          3.7224521620271047,
          3.7224521620271047,
          3.7224521620271047,
          3.7224521620271047,
          3.7224521620271047,
          3.7980801099789674,
          3.7980801099789674,
          3.7980801099789674,
          3.7980801099789674,
          3.7980801099789674,
          3.7980801099789674,
          3.7980801099789674,
          3.7980801099789674,
          3.87370805793083,
          3.87370805793083,
          3.87370805793083,
          3.87370805793083,
          3.87370805793083,
          3.87370805793083,
          3.87370805793083,
          3.87370805793083,
          3.87370805793083,
          3.9493360058826927,
          3.9493360058826927,
          3.9493360058826927,
          3.9493360058826927,
          3.9493360058826927,
          3.9493360058826927,
          3.9493360058826927,
          3.9493360058826927,
          3.9493360058826927,
          3.9493360058826927,
          3.9493360058826927,
          3.9493360058826927,
          4.024963953834556,
          4.024963953834556,
          4.024963953834556,
          4.024963953834556,
          4.024963953834556,
          4.024963953834556,
          4.024963953834556,
          4.024963953834556,
          4.024963953834556,
          4.024963953834556,
          4.024963953834556,
          4.024963953834556,
          4.024963953834556,
          4.024963953834556,
          4.024963953834556,
          4.100591901786418,
          4.100591901786418,
          4.100591901786418,
          4.100591901786418,
          4.100591901786418,
          4.100591901786418,
          4.100591901786418,
          4.100591901786418,
          4.100591901786418,
          4.100591901786418,
          4.176219849738281,
          4.176219849738281,
          4.176219849738281,
          4.176219849738281,
          4.176219849738281,
          4.176219849738281,
          4.176219849738281,
          4.176219849738281,
          4.251847797690145,
          4.251847797690145,
          4.251847797690145,
          4.251847797690145,
          4.251847797690145,
          4.251847797690145,
          4.251847797690145,
          4.251847797690145,
          4.251847797690145,
          4.251847797690145,
          4.251847797690145,
          4.251847797690145,
          4.251847797690145,
          4.3274757456420065,
          4.3274757456420065,
          4.3274757456420065,
          4.3274757456420065,
          4.3274757456420065,
          4.3274757456420065,
          4.3274757456420065,
          4.3274757456420065,
          4.3274757456420065,
          4.3274757456420065,
          4.3274757456420065,
          4.3274757456420065,
          4.40310369359387,
          4.40310369359387,
          4.40310369359387,
          4.40310369359387,
          4.40310369359387,
          4.40310369359387,
          4.40310369359387,
          4.40310369359387,
          4.40310369359387,
          4.40310369359387,
          4.40310369359387,
          4.40310369359387,
          4.40310369359387,
          4.40310369359387,
          4.478731641545732,
          4.478731641545732,
          4.478731641545732,
          4.478731641545732,
          4.478731641545732,
          4.478731641545732,
          4.478731641545732,
          4.478731641545732,
          4.478731641545732,
          4.478731641545732,
          4.5543595894975955,
          4.5543595894975955,
          4.5543595894975955,
          4.5543595894975955,
          4.5543595894975955,
          4.5543595894975955,
          4.629987537449457,
          4.629987537449457,
          4.629987537449457,
          4.629987537449457,
          4.629987537449457,
          4.629987537449457,
          4.705615485401321,
          4.705615485401321,
          4.781243433353183,
          4.781243433353183,
          4.781243433353183,
          4.781243433353183,
          4.781243433353183,
          4.781243433353183,
          4.856871381305046,
          4.856871381305046,
          4.856871381305046,
          4.932499329256908,
          4.932499329256908,
          4.932499329256908,
          4.932499329256908,
          4.932499329256908,
          4.932499329256908,
          5.0081272772087715,
          5.083755225160633,
          5.159383173112497,
          5.159383173112497,
          5.235011121064359,
          5.386267016968084
         ],
         "yaxis": "y"
        },
        {
         "mode": "lines",
         "name": "LOWESS Trendline",
         "type": "scatter",
         "x": [
          43,
          45,
          45,
          45,
          46,
          46,
          46,
          46,
          46,
          47,
          47,
          47,
          47,
          48,
          48,
          48,
          49,
          49,
          49,
          49,
          49,
          50,
          50,
          50,
          50,
          50,
          51,
          51,
          51,
          51,
          51,
          51,
          52,
          52,
          52,
          52,
          52,
          53,
          53,
          53,
          53,
          53,
          53,
          53,
          54,
          54,
          54,
          54,
          54,
          54,
          54,
          54,
          54,
          55,
          55,
          55,
          55,
          55,
          55,
          56,
          56,
          56,
          56,
          57,
          57,
          57,
          58,
          58,
          58,
          58,
          59,
          59,
          59,
          59,
          59,
          59,
          59,
          60,
          60,
          60,
          60,
          60,
          60,
          62,
          62,
          62,
          62,
          63,
          63,
          63,
          64,
          64,
          64,
          64,
          65,
          65,
          65,
          66,
          66,
          67,
          68,
          69,
          69,
          70,
          70,
          70,
          70,
          71,
          71,
          71,
          71,
          71,
          72,
          73,
          73,
          73,
          73,
          73,
          73,
          73,
          74,
          74,
          74,
          74,
          74,
          74,
          75,
          75,
          75,
          75,
          75,
          75,
          75,
          75,
          76,
          76,
          76,
          76,
          76,
          76,
          76,
          76,
          76,
          77,
          77,
          77,
          77,
          77,
          77,
          77,
          77,
          77,
          77,
          77,
          77,
          78,
          78,
          78,
          78,
          78,
          78,
          78,
          78,
          78,
          78,
          78,
          78,
          78,
          78,
          78,
          79,
          79,
          79,
          79,
          79,
          79,
          79,
          79,
          79,
          79,
          80,
          80,
          80,
          80,
          80,
          80,
          80,
          80,
          81,
          81,
          81,
          81,
          81,
          81,
          81,
          81,
          81,
          81,
          81,
          81,
          81,
          82,
          82,
          82,
          82,
          82,
          82,
          82,
          82,
          82,
          82,
          82,
          82,
          83,
          83,
          83,
          83,
          83,
          83,
          83,
          83,
          83,
          83,
          83,
          83,
          83,
          83,
          84,
          84,
          84,
          84,
          84,
          84,
          84,
          84,
          84,
          84,
          85,
          85,
          85,
          85,
          85,
          85,
          86,
          86,
          86,
          86,
          86,
          86,
          87,
          87,
          88,
          88,
          88,
          88,
          88,
          88,
          89,
          89,
          89,
          90,
          90,
          90,
          90,
          90,
          90,
          91,
          92,
          93,
          93,
          94,
          96
         ],
         "y": [
          1.9186521424072547,
          1.9344096504954134,
          1.9344096504954134,
          1.9344096504954134,
          1.9421058219420753,
          1.9421058219420753,
          1.9421058219420753,
          1.9421058219420753,
          1.9421058219420753,
          1.9492820922680067,
          1.9492820922680067,
          1.9492820922680067,
          1.9492820922680067,
          1.9558607302691684,
          1.9558607302691684,
          1.9558607302691684,
          1.962181369241891,
          1.962181369241891,
          1.962181369241891,
          1.962181369241891,
          1.962181369241891,
          1.969408997981721,
          1.969408997981721,
          1.969408997981721,
          1.969408997981721,
          1.969408997981721,
          1.979785009796234,
          1.979785009796234,
          1.979785009796234,
          1.979785009796234,
          1.979785009796234,
          1.979785009796234,
          1.989714320835026,
          1.989714320835026,
          1.989714320835026,
          1.989714320835026,
          1.989714320835026,
          1.9952876010759677,
          1.9952876010759677,
          1.9952876010759677,
          1.9952876010759677,
          1.9952876010759677,
          1.9952876010759677,
          1.9952876010759677,
          1.9936488499343459,
          1.9936488499343459,
          1.9936488499343459,
          1.9936488499343459,
          1.9936488499343459,
          1.9936488499343459,
          1.9936488499343459,
          1.9936488499343459,
          1.9936488499343459,
          1.99393402379364,
          1.99393402379364,
          1.99393402379364,
          1.99393402379364,
          1.99393402379364,
          1.99393402379364,
          1.9998045945748515,
          1.9998045945748515,
          1.9998045945748515,
          1.9998045945748515,
          2.0139370252003546,
          2.0139370252003546,
          2.0139370252003546,
          2.038699058321957,
          2.038699058321957,
          2.038699058321957,
          2.038699058321957,
          2.0955741372199967,
          2.0955741372199967,
          2.0955741372199967,
          2.0955741372199967,
          2.0955741372199967,
          2.0955741372199967,
          2.0955741372199967,
          2.157900404002252,
          2.157900404002252,
          2.157900404002252,
          2.157900404002252,
          2.157900404002252,
          2.157900404002252,
          2.383589177706359,
          2.383589177706359,
          2.383589177706359,
          2.383589177706359,
          2.544376577318829,
          2.544376577318829,
          2.544376577318829,
          2.739478107460566,
          2.739478107460566,
          2.739478107460566,
          2.739478107460566,
          2.9029176379088457,
          2.9029176379088457,
          2.9029176379088457,
          3.053658252690223,
          3.053658252690223,
          3.214763931658723,
          3.380303575331191,
          3.5786855265101667,
          3.5786855265101667,
          3.7849136115718265,
          3.7849136115718265,
          3.7849136115718265,
          3.7849136115718265,
          3.9459220045987813,
          3.9459220045987813,
          3.9459220045987813,
          3.9459220045987813,
          3.9459220045987813,
          4.074872475833141,
          4.179011278635363,
          4.179011278635363,
          4.179011278635363,
          4.179011278635363,
          4.179011278635363,
          4.179011278635363,
          4.179011278635363,
          4.253073995783976,
          4.253073995783976,
          4.253073995783976,
          4.253073995783976,
          4.253073995783976,
          4.253073995783976,
          4.318817611180992,
          4.318817611180992,
          4.318817611180992,
          4.318817611180992,
          4.318817611180992,
          4.318817611180992,
          4.318817611180992,
          4.318817611180992,
          4.331656770327086,
          4.331656770327086,
          4.331656770327086,
          4.331656770327086,
          4.331656770327086,
          4.331656770327086,
          4.331656770327086,
          4.331656770327086,
          4.331656770327086,
          4.346858683186571,
          4.346858683186571,
          4.346858683186571,
          4.346858683186571,
          4.346858683186571,
          4.346858683186571,
          4.346858683186571,
          4.346858683186571,
          4.346858683186571,
          4.346858683186571,
          4.346858683186571,
          4.346858683186571,
          4.341189350470698,
          4.341189350470698,
          4.341189350470698,
          4.341189350470698,
          4.341189350470698,
          4.341189350470698,
          4.341189350470698,
          4.341189350470698,
          4.341189350470698,
          4.341189350470698,
          4.341189350470698,
          4.341189350470698,
          4.341189350470698,
          4.341189350470698,
          4.341189350470698,
          4.336785127256803,
          4.336785127256803,
          4.336785127256803,
          4.336785127256803,
          4.336785127256803,
          4.336785127256803,
          4.336785127256803,
          4.336785127256803,
          4.336785127256803,
          4.336785127256803,
          4.332304008228884,
          4.332304008228884,
          4.332304008228884,
          4.332304008228884,
          4.332304008228884,
          4.332304008228884,
          4.332304008228884,
          4.332304008228884,
          4.351533317269229,
          4.351533317269229,
          4.351533317269229,
          4.351533317269229,
          4.351533317269229,
          4.351533317269229,
          4.351533317269229,
          4.351533317269229,
          4.351533317269229,
          4.351533317269229,
          4.351533317269229,
          4.351533317269229,
          4.351533317269229,
          4.353914954332693,
          4.353914954332693,
          4.353914954332693,
          4.353914954332693,
          4.353914954332693,
          4.353914954332693,
          4.353914954332693,
          4.353914954332693,
          4.353914954332693,
          4.353914954332693,
          4.353914954332693,
          4.353914954332693,
          4.363081724880589,
          4.363081724880589,
          4.363081724880589,
          4.363081724880589,
          4.363081724880589,
          4.363081724880589,
          4.363081724880589,
          4.363081724880589,
          4.363081724880589,
          4.363081724880589,
          4.363081724880589,
          4.363081724880589,
          4.363081724880589,
          4.363081724880589,
          4.3826565674434494,
          4.3826565674434494,
          4.3826565674434494,
          4.3826565674434494,
          4.3826565674434494,
          4.3826565674434494,
          4.3826565674434494,
          4.3826565674434494,
          4.3826565674434494,
          4.3826565674434494,
          4.409438439144667,
          4.409438439144667,
          4.409438439144667,
          4.409438439144667,
          4.409438439144667,
          4.409438439144667,
          4.445252114142226,
          4.445252114142226,
          4.445252114142226,
          4.445252114142226,
          4.445252114142226,
          4.445252114142226,
          4.463727351843725,
          4.463727351843725,
          4.479656149960105,
          4.479656149960105,
          4.479656149960105,
          4.479656149960105,
          4.479656149960105,
          4.479656149960105,
          4.485016934824078,
          4.485016934824078,
          4.485016934824078,
          4.50688251213341,
          4.50688251213341,
          4.50688251213341,
          4.50688251213341,
          4.50688251213341,
          4.50688251213341,
          4.542260097039768,
          4.577490663638139,
          4.610400813055501,
          4.610400813055501,
          4.642094388351268,
          4.709228776366015
         ]
        }
       ],
       "layout": {
        "legend": {
         "tracegroupgap": 0
        },
        "template": {
         "data": {
          "bar": [
           {
            "error_x": {
             "color": "#2a3f5f"
            },
            "error_y": {
             "color": "#2a3f5f"
            },
            "marker": {
             "line": {
              "color": "#E5ECF6",
              "width": 0.5
             },
             "pattern": {
              "fillmode": "overlay",
              "size": 10,
              "solidity": 0.2
             }
            },
            "type": "bar"
           }
          ],
          "barpolar": [
           {
            "marker": {
             "line": {
              "color": "#E5ECF6",
              "width": 0.5
             },
             "pattern": {
              "fillmode": "overlay",
              "size": 10,
              "solidity": 0.2
             }
            },
            "type": "barpolar"
           }
          ],
          "carpet": [
           {
            "aaxis": {
             "endlinecolor": "#2a3f5f",
             "gridcolor": "white",
             "linecolor": "white",
             "minorgridcolor": "white",
             "startlinecolor": "#2a3f5f"
            },
            "baxis": {
             "endlinecolor": "#2a3f5f",
             "gridcolor": "white",
             "linecolor": "white",
             "minorgridcolor": "white",
             "startlinecolor": "#2a3f5f"
            },
            "type": "carpet"
           }
          ],
          "choropleth": [
           {
            "colorbar": {
             "outlinewidth": 0,
             "ticks": ""
            },
            "type": "choropleth"
           }
          ],
          "contour": [
           {
            "colorbar": {
             "outlinewidth": 0,
             "ticks": ""
            },
            "colorscale": [
             [
              0,
              "#0d0887"
             ],
             [
              0.1111111111111111,
              "#46039f"
             ],
             [
              0.2222222222222222,
              "#7201a8"
             ],
             [
              0.3333333333333333,
              "#9c179e"
             ],
             [
              0.4444444444444444,
              "#bd3786"
             ],
             [
              0.5555555555555556,
              "#d8576b"
             ],
             [
              0.6666666666666666,
              "#ed7953"
             ],
             [
              0.7777777777777778,
              "#fb9f3a"
             ],
             [
              0.8888888888888888,
              "#fdca26"
             ],
             [
              1,
              "#f0f921"
             ]
            ],
            "type": "contour"
           }
          ],
          "contourcarpet": [
           {
            "colorbar": {
             "outlinewidth": 0,
             "ticks": ""
            },
            "type": "contourcarpet"
           }
          ],
          "heatmap": [
           {
            "colorbar": {
             "outlinewidth": 0,
             "ticks": ""
            },
            "colorscale": [
             [
              0,
              "#0d0887"
             ],
             [
              0.1111111111111111,
              "#46039f"
             ],
             [
              0.2222222222222222,
              "#7201a8"
             ],
             [
              0.3333333333333333,
              "#9c179e"
             ],
             [
              0.4444444444444444,
              "#bd3786"
             ],
             [
              0.5555555555555556,
              "#d8576b"
             ],
             [
              0.6666666666666666,
              "#ed7953"
             ],
             [
              0.7777777777777778,
              "#fb9f3a"
             ],
             [
              0.8888888888888888,
              "#fdca26"
             ],
             [
              1,
              "#f0f921"
             ]
            ],
            "type": "heatmap"
           }
          ],
          "heatmapgl": [
           {
            "colorbar": {
             "outlinewidth": 0,
             "ticks": ""
            },
            "colorscale": [
             [
              0,
              "#0d0887"
             ],
             [
              0.1111111111111111,
              "#46039f"
             ],
             [
              0.2222222222222222,
              "#7201a8"
             ],
             [
              0.3333333333333333,
              "#9c179e"
             ],
             [
              0.4444444444444444,
              "#bd3786"
             ],
             [
              0.5555555555555556,
              "#d8576b"
             ],
             [
              0.6666666666666666,
              "#ed7953"
             ],
             [
              0.7777777777777778,
              "#fb9f3a"
             ],
             [
              0.8888888888888888,
              "#fdca26"
             ],
             [
              1,
              "#f0f921"
             ]
            ],
            "type": "heatmapgl"
           }
          ],
          "histogram": [
           {
            "marker": {
             "pattern": {
              "fillmode": "overlay",
              "size": 10,
              "solidity": 0.2
             }
            },
            "type": "histogram"
           }
          ],
          "histogram2d": [
           {
            "colorbar": {
             "outlinewidth": 0,
             "ticks": ""
            },
            "colorscale": [
             [
              0,
              "#0d0887"
             ],
             [
              0.1111111111111111,
              "#46039f"
             ],
             [
              0.2222222222222222,
              "#7201a8"
             ],
             [
              0.3333333333333333,
              "#9c179e"
             ],
             [
              0.4444444444444444,
              "#bd3786"
             ],
             [
              0.5555555555555556,
              "#d8576b"
             ],
             [
              0.6666666666666666,
              "#ed7953"
             ],
             [
              0.7777777777777778,
              "#fb9f3a"
             ],
             [
              0.8888888888888888,
              "#fdca26"
             ],
             [
              1,
              "#f0f921"
             ]
            ],
            "type": "histogram2d"
           }
          ],
          "histogram2dcontour": [
           {
            "colorbar": {
             "outlinewidth": 0,
             "ticks": ""
            },
            "colorscale": [
             [
              0,
              "#0d0887"
             ],
             [
              0.1111111111111111,
              "#46039f"
             ],
             [
              0.2222222222222222,
              "#7201a8"
             ],
             [
              0.3333333333333333,
              "#9c179e"
             ],
             [
              0.4444444444444444,
              "#bd3786"
             ],
             [
              0.5555555555555556,
              "#d8576b"
             ],
             [
              0.6666666666666666,
              "#ed7953"
             ],
             [
              0.7777777777777778,
              "#fb9f3a"
             ],
             [
              0.8888888888888888,
              "#fdca26"
             ],
             [
              1,
              "#f0f921"
             ]
            ],
            "type": "histogram2dcontour"
           }
          ],
          "mesh3d": [
           {
            "colorbar": {
             "outlinewidth": 0,
             "ticks": ""
            },
            "type": "mesh3d"
           }
          ],
          "parcoords": [
           {
            "line": {
             "colorbar": {
              "outlinewidth": 0,
              "ticks": ""
             }
            },
            "type": "parcoords"
           }
          ],
          "pie": [
           {
            "automargin": true,
            "type": "pie"
           }
          ],
          "scatter": [
           {
            "fillpattern": {
             "fillmode": "overlay",
             "size": 10,
             "solidity": 0.2
            },
            "type": "scatter"
           }
          ],
          "scatter3d": [
           {
            "line": {
             "colorbar": {
              "outlinewidth": 0,
              "ticks": ""
             }
            },
            "marker": {
             "colorbar": {
              "outlinewidth": 0,
              "ticks": ""
             }
            },
            "type": "scatter3d"
           }
          ],
          "scattercarpet": [
           {
            "marker": {
             "colorbar": {
              "outlinewidth": 0,
              "ticks": ""
             }
            },
            "type": "scattercarpet"
           }
          ],
          "scattergeo": [
           {
            "marker": {
             "colorbar": {
              "outlinewidth": 0,
              "ticks": ""
             }
            },
            "type": "scattergeo"
           }
          ],
          "scattergl": [
           {
            "marker": {
             "colorbar": {
              "outlinewidth": 0,
              "ticks": ""
             }
            },
            "type": "scattergl"
           }
          ],
          "scattermapbox": [
           {
            "marker": {
             "colorbar": {
              "outlinewidth": 0,
              "ticks": ""
             }
            },
            "type": "scattermapbox"
           }
          ],
          "scatterpolar": [
           {
            "marker": {
             "colorbar": {
              "outlinewidth": 0,
              "ticks": ""
             }
            },
            "type": "scatterpolar"
           }
          ],
          "scatterpolargl": [
           {
            "marker": {
             "colorbar": {
              "outlinewidth": 0,
              "ticks": ""
             }
            },
            "type": "scatterpolargl"
           }
          ],
          "scatterternary": [
           {
            "marker": {
             "colorbar": {
              "outlinewidth": 0,
              "ticks": ""
             }
            },
            "type": "scatterternary"
           }
          ],
          "surface": [
           {
            "colorbar": {
             "outlinewidth": 0,
             "ticks": ""
            },
            "colorscale": [
             [
              0,
              "#0d0887"
             ],
             [
              0.1111111111111111,
              "#46039f"
             ],
             [
              0.2222222222222222,
              "#7201a8"
             ],
             [
              0.3333333333333333,
              "#9c179e"
             ],
             [
              0.4444444444444444,
              "#bd3786"
             ],
             [
              0.5555555555555556,
              "#d8576b"
             ],
             [
              0.6666666666666666,
              "#ed7953"
             ],
             [
              0.7777777777777778,
              "#fb9f3a"
             ],
             [
              0.8888888888888888,
              "#fdca26"
             ],
             [
              1,
              "#f0f921"
             ]
            ],
            "type": "surface"
           }
          ],
          "table": [
           {
            "cells": {
             "fill": {
              "color": "#EBF0F8"
             },
             "line": {
              "color": "white"
             }
            },
            "header": {
             "fill": {
              "color": "#C8D4E3"
             },
             "line": {
              "color": "white"
             }
            },
            "type": "table"
           }
          ]
         },
         "layout": {
          "annotationdefaults": {
           "arrowcolor": "#2a3f5f",
           "arrowhead": 0,
           "arrowwidth": 1
          },
          "autotypenumbers": "strict",
          "coloraxis": {
           "colorbar": {
            "outlinewidth": 0,
            "ticks": ""
           }
          },
          "colorscale": {
           "diverging": [
            [
             0,
             "#8e0152"
            ],
            [
             0.1,
             "#c51b7d"
            ],
            [
             0.2,
             "#de77ae"
            ],
            [
             0.3,
             "#f1b6da"
            ],
            [
             0.4,
             "#fde0ef"
            ],
            [
             0.5,
             "#f7f7f7"
            ],
            [
             0.6,
             "#e6f5d0"
            ],
            [
             0.7,
             "#b8e186"
            ],
            [
             0.8,
             "#7fbc41"
            ],
            [
             0.9,
             "#4d9221"
            ],
            [
             1,
             "#276419"
            ]
           ],
           "sequential": [
            [
             0,
             "#0d0887"
            ],
            [
             0.1111111111111111,
             "#46039f"
            ],
            [
             0.2222222222222222,
             "#7201a8"
            ],
            [
             0.3333333333333333,
             "#9c179e"
            ],
            [
             0.4444444444444444,
             "#bd3786"
            ],
            [
             0.5555555555555556,
             "#d8576b"
            ],
            [
             0.6666666666666666,
             "#ed7953"
            ],
            [
             0.7777777777777778,
             "#fb9f3a"
            ],
            [
             0.8888888888888888,
             "#fdca26"
            ],
            [
             1,
             "#f0f921"
            ]
           ],
           "sequentialminus": [
            [
             0,
             "#0d0887"
            ],
            [
             0.1111111111111111,
             "#46039f"
            ],
            [
             0.2222222222222222,
             "#7201a8"
            ],
            [
             0.3333333333333333,
             "#9c179e"
            ],
            [
             0.4444444444444444,
             "#bd3786"
            ],
            [
             0.5555555555555556,
             "#d8576b"
            ],
            [
             0.6666666666666666,
             "#ed7953"
            ],
            [
             0.7777777777777778,
             "#fb9f3a"
            ],
            [
             0.8888888888888888,
             "#fdca26"
            ],
            [
             1,
             "#f0f921"
            ]
           ]
          },
          "colorway": [
           "#636efa",
           "#EF553B",
           "#00cc96",
           "#ab63fa",
           "#FFA15A",
           "#19d3f3",
           "#FF6692",
           "#B6E880",
           "#FF97FF",
           "#FECB52"
          ],
          "font": {
           "color": "#2a3f5f"
          },
          "geo": {
           "bgcolor": "white",
           "lakecolor": "white",
           "landcolor": "#E5ECF6",
           "showlakes": true,
           "showland": true,
           "subunitcolor": "white"
          },
          "hoverlabel": {
           "align": "left"
          },
          "hovermode": "closest",
          "mapbox": {
           "style": "light"
          },
          "paper_bgcolor": "white",
          "plot_bgcolor": "#E5ECF6",
          "polar": {
           "angularaxis": {
            "gridcolor": "white",
            "linecolor": "white",
            "ticks": ""
           },
           "bgcolor": "#E5ECF6",
           "radialaxis": {
            "gridcolor": "white",
            "linecolor": "white",
            "ticks": ""
           }
          },
          "scene": {
           "xaxis": {
            "backgroundcolor": "#E5ECF6",
            "gridcolor": "white",
            "gridwidth": 2,
            "linecolor": "white",
            "showbackground": true,
            "ticks": "",
            "zerolinecolor": "white"
           },
           "yaxis": {
            "backgroundcolor": "#E5ECF6",
            "gridcolor": "white",
            "gridwidth": 2,
            "linecolor": "white",
            "showbackground": true,
            "ticks": "",
            "zerolinecolor": "white"
           },
           "zaxis": {
            "backgroundcolor": "#E5ECF6",
            "gridcolor": "white",
            "gridwidth": 2,
            "linecolor": "white",
            "showbackground": true,
            "ticks": "",
            "zerolinecolor": "white"
           }
          },
          "shapedefaults": {
           "line": {
            "color": "#2a3f5f"
           }
          },
          "ternary": {
           "aaxis": {
            "gridcolor": "white",
            "linecolor": "white",
            "ticks": ""
           },
           "baxis": {
            "gridcolor": "white",
            "linecolor": "white",
            "ticks": ""
           },
           "bgcolor": "#E5ECF6",
           "caxis": {
            "gridcolor": "white",
            "linecolor": "white",
            "ticks": ""
           }
          },
          "title": {
           "x": 0.05
          },
          "xaxis": {
           "automargin": true,
           "gridcolor": "white",
           "linecolor": "white",
           "ticks": "",
           "title": {
            "standoff": 15
           },
           "zerolinecolor": "white",
           "zerolinewidth": 2
          },
          "yaxis": {
           "automargin": true,
           "gridcolor": "white",
           "linecolor": "white",
           "ticks": "",
           "title": {
            "standoff": 15
           },
           "zerolinecolor": "white",
           "zerolinewidth": 2
          }
         }
        },
        "title": {
         "text": "Old Faithful Geyser Eruptions"
        },
        "xaxis": {
         "anchor": "y",
         "domain": [
          0,
          1
         ],
         "title": {
          "text": "waiting"
         }
        },
        "yaxis": {
         "anchor": "x",
         "domain": [
          0,
          1
         ],
         "title": {
          "text": "duration"
         }
        }
       }
      },
      "text/html": [
       "<div>                            <div id=\"51a3a3af-88bd-4574-8396-8579aa7e7c51\" class=\"plotly-graph-div\" style=\"height:525px; width:100%;\"></div>            <script type=\"text/javascript\">                require([\"plotly\"], function(Plotly) {                    window.PLOTLYENV=window.PLOTLYENV || {};                                    if (document.getElementById(\"51a3a3af-88bd-4574-8396-8579aa7e7c51\")) {                    Plotly.newPlot(                        \"51a3a3af-88bd-4574-8396-8579aa7e7c51\",                        [{\"hovertemplate\":\"waiting=%{x}\\u003cbr\\u003eduration=%{y}\\u003cextra\\u003e\\u003c\\u002fextra\\u003e\",\"legendgroup\":\"\",\"marker\":{\"color\":\"#636efa\",\"symbol\":\"circle\"},\"mode\":\"markers\",\"name\":\"\",\"orientation\":\"v\",\"showlegend\":false,\"x\":[79,54,74,62,85,55,88,85,51,85,54,84,78,47,83,52,62,84,52,79,51,47,78,69,74,83,55,76,78,79,73,77,66,80,74,52,48,80,59,90,80,58,84,58,73,83,64,53,82,59,75,90,54,80,54,83,71,64,77,81,59,84,48,82,60,92,78,78,65,73,82,56,79,71,62,76,60,78,76,83,75,82,70,65,73,88,76,80,48,86,60,90,50,78,63,72,84,75,51,82,62,88,49,83,81,47,84,52,86,81,75,59,89,79,59,81,50,85,59,87,53,69,77,56,88,81,45,82,55,90,45,83,56,89,46,82,51,86,53,79,81,60,82,77,76,59,80,49,96,53,77,77,65,81,71,70,81,93,53,89,45,86,58,78,66,76,63,88,52,93,49,57,77,68,81,81,73,50,85,74,55,77,83,83,51,78,84,46,83,55,81,57,76,84,77,81,87,77,51,78,60,82,91,53,78,46,77,84,49,83,71,80,49,75,64,76,53,94,55,76,50,82,54,75,78,79,78,78,70,79,70,54,86,50,90,54,54,77,79,64,75,47,86,63,85,82,57,82,67,74,54,83,73,73,88,80,71,83,56,79,78,84,58,83,43,60,75,81,46,90,46,74],\"xaxis\":\"x\",\"y\":[3.6,1.8,3.333,2.283,4.533,2.883,4.7,3.6,1.95,4.35,1.833,3.917,4.2,1.75,4.7,2.167,1.75,4.8,1.6,4.25,1.8,1.75,3.45,3.067,4.533,3.6,1.967,4.083,3.85,4.433,4.3,4.467,3.367,4.033,3.833,2.017,1.867,4.833,1.833,4.783,4.35,1.883,4.567,1.75,4.533,3.317,3.833,2.1,4.633,2.0,4.8,4.716,1.833,4.833,1.733,4.883,3.717,1.6669999999999998,4.567,4.317,2.233,4.5,1.75,4.8,1.817,4.4,4.167,4.7,2.067,4.7,4.033,1.967,4.5,4.0,1.983,5.067,2.017,4.567,3.883,3.6,4.133,4.333,4.1,2.633,4.067,4.933,3.95,4.517,2.167,4.0,2.2,4.333,1.867,4.817,1.833,4.3,4.667,3.75,1.867,4.9,2.483,4.367,2.1,4.5,4.05,1.867,4.7,1.783,4.85,3.683,4.7330000000000005,2.3,4.9,4.417,1.7,4.633,2.317,4.6,1.817,4.417,2.617,4.067,4.25,1.967,4.6,3.767,1.917,4.5,2.267,4.65,1.867,4.167,2.8,4.333,1.833,4.383,1.883,4.933,2.033,3.733,4.2330000000000005,2.233,4.533,4.817,4.333,1.983,4.633,2.017,5.1,1.8,5.033,4.0,2.4,4.6,3.567,4.0,4.5,4.083,1.8,3.967,2.2,4.15,2.0,3.833,3.5,4.583,2.367,5.0,1.933,4.617,1.917,2.083,4.583,3.333,4.167,4.333,4.5,2.417,4.0,4.167,1.883,4.583,4.25,3.767,2.033,4.433,4.083,1.833,4.417,2.1830000000000003,4.8,1.833,4.8,4.1,3.966,4.2330000000000005,3.5,4.3660000000000005,2.25,4.667,2.1,4.35,4.133,1.867,4.6,1.783,4.367,3.85,1.933,4.5,2.383,4.7,1.867,3.833,3.417,4.2330000000000005,2.4,4.8,2.0,4.15,1.867,4.267,1.75,4.4830000000000005,4.0,4.117,4.083,4.267,3.917,4.55,4.083,2.417,4.183,2.217,4.45,1.883,1.85,4.283,3.95,2.333,4.15,2.35,4.933,2.9,4.583,3.833,2.083,4.367,2.133,4.35,2.2,4.45,3.567,4.5,4.15,3.817,3.917,4.45,2.0,4.283,4.767,4.533,1.85,4.25,1.983,2.25,4.75,4.117,2.15,4.417,1.817,4.467],\"yaxis\":\"y\",\"type\":\"scatter\"},{\"hovertemplate\":\"\\u003cb\\u003eOLS trendline\\u003c\\u002fb\\u003e\\u003cbr\\u003eduration = 0.0756279 * waiting + -1.87402\\u003cbr\\u003eR\\u003csup\\u003e2\\u003c\\u002fsup\\u003e=0.811461\\u003cbr\\u003e\\u003cbr\\u003ewaiting=%{x}\\u003cbr\\u003eduration=%{y} \\u003cb\\u003e(trend)\\u003c\\u002fb\\u003e\\u003cextra\\u003e\\u003c\\u002fextra\\u003e\",\"legendgroup\":\"\",\"marker\":{\"color\":\"#636efa\",\"symbol\":\"circle\"},\"mode\":\"lines\",\"name\":\"\",\"showlegend\":false,\"x\":[43,45,45,45,46,46,46,46,46,47,47,47,47,48,48,48,49,49,49,49,49,50,50,50,50,50,51,51,51,51,51,51,52,52,52,52,52,53,53,53,53,53,53,53,54,54,54,54,54,54,54,54,54,55,55,55,55,55,55,56,56,56,56,57,57,57,58,58,58,58,59,59,59,59,59,59,59,60,60,60,60,60,60,62,62,62,62,63,63,63,64,64,64,64,65,65,65,66,66,67,68,69,69,70,70,70,70,71,71,71,71,71,72,73,73,73,73,73,73,73,74,74,74,74,74,74,75,75,75,75,75,75,75,75,76,76,76,76,76,76,76,76,76,77,77,77,77,77,77,77,77,77,77,77,77,78,78,78,78,78,78,78,78,78,78,78,78,78,78,78,79,79,79,79,79,79,79,79,79,79,80,80,80,80,80,80,80,80,81,81,81,81,81,81,81,81,81,81,81,81,81,82,82,82,82,82,82,82,82,82,82,82,82,83,83,83,83,83,83,83,83,83,83,83,83,83,83,84,84,84,84,84,84,84,84,84,84,85,85,85,85,85,85,86,86,86,86,86,86,87,87,88,88,88,88,88,88,89,89,89,90,90,90,90,90,90,91,92,93,93,94,96],\"xaxis\":\"x\",\"y\":[1.3779857755193614,1.5292416714230868,1.5292416714230868,1.5292416714230868,1.6048696193749494,1.6048696193749494,1.6048696193749494,1.6048696193749494,1.6048696193749494,1.680497567326812,1.680497567326812,1.680497567326812,1.680497567326812,1.7561255152786748,1.7561255152786748,1.7561255152786748,1.8317534632305374,1.8317534632305374,1.8317534632305374,1.8317534632305374,1.8317534632305374,1.9073814111824001,1.9073814111824001,1.9073814111824001,1.9073814111824001,1.9073814111824001,1.9830093591342628,1.9830093591342628,1.9830093591342628,1.9830093591342628,1.9830093591342628,1.9830093591342628,2.0586373070861255,2.0586373070861255,2.0586373070861255,2.0586373070861255,2.0586373070861255,2.1342652550379886,2.1342652550379886,2.1342652550379886,2.1342652550379886,2.1342652550379886,2.1342652550379886,2.1342652550379886,2.2098932029898513,2.2098932029898513,2.2098932029898513,2.2098932029898513,2.2098932029898513,2.2098932029898513,2.2098932029898513,2.2098932029898513,2.2098932029898513,2.285521150941714,2.285521150941714,2.285521150941714,2.285521150941714,2.285521150941714,2.285521150941714,2.3611490988935766,2.3611490988935766,2.3611490988935766,2.3611490988935766,2.4367770468454393,2.4367770468454393,2.4367770468454393,2.512404994797302,2.512404994797302,2.512404994797302,2.512404994797302,2.5880329427491646,2.5880329427491646,2.5880329427491646,2.5880329427491646,2.5880329427491646,2.5880329427491646,2.5880329427491646,2.6636608907010273,2.6636608907010273,2.6636608907010273,2.6636608907010273,2.6636608907010273,2.6636608907010273,2.8149167866047526,2.8149167866047526,2.8149167866047526,2.8149167866047526,2.8905447345566153,2.8905447345566153,2.8905447345566153,2.966172682508478,2.966172682508478,2.966172682508478,2.966172682508478,3.0418006304603407,3.0418006304603407,3.0418006304603407,3.1174285784122033,3.1174285784122033,3.193056526364066,3.2686844743159287,3.3443124222677914,3.3443124222677914,3.419940370219654,3.419940370219654,3.419940370219654,3.419940370219654,3.4955683181715167,3.4955683181715167,3.4955683181715167,3.4955683181715167,3.4955683181715167,3.5711962661233794,3.646824214075242,3.646824214075242,3.646824214075242,3.646824214075242,3.646824214075242,3.646824214075242,3.646824214075242,3.7224521620271047,3.7224521620271047,3.7224521620271047,3.7224521620271047,3.7224521620271047,3.7224521620271047,3.7980801099789674,3.7980801099789674,3.7980801099789674,3.7980801099789674,3.7980801099789674,3.7980801099789674,3.7980801099789674,3.7980801099789674,3.87370805793083,3.87370805793083,3.87370805793083,3.87370805793083,3.87370805793083,3.87370805793083,3.87370805793083,3.87370805793083,3.87370805793083,3.9493360058826927,3.9493360058826927,3.9493360058826927,3.9493360058826927,3.9493360058826927,3.9493360058826927,3.9493360058826927,3.9493360058826927,3.9493360058826927,3.9493360058826927,3.9493360058826927,3.9493360058826927,4.024963953834556,4.024963953834556,4.024963953834556,4.024963953834556,4.024963953834556,4.024963953834556,4.024963953834556,4.024963953834556,4.024963953834556,4.024963953834556,4.024963953834556,4.024963953834556,4.024963953834556,4.024963953834556,4.024963953834556,4.100591901786418,4.100591901786418,4.100591901786418,4.100591901786418,4.100591901786418,4.100591901786418,4.100591901786418,4.100591901786418,4.100591901786418,4.100591901786418,4.176219849738281,4.176219849738281,4.176219849738281,4.176219849738281,4.176219849738281,4.176219849738281,4.176219849738281,4.176219849738281,4.251847797690145,4.251847797690145,4.251847797690145,4.251847797690145,4.251847797690145,4.251847797690145,4.251847797690145,4.251847797690145,4.251847797690145,4.251847797690145,4.251847797690145,4.251847797690145,4.251847797690145,4.3274757456420065,4.3274757456420065,4.3274757456420065,4.3274757456420065,4.3274757456420065,4.3274757456420065,4.3274757456420065,4.3274757456420065,4.3274757456420065,4.3274757456420065,4.3274757456420065,4.3274757456420065,4.40310369359387,4.40310369359387,4.40310369359387,4.40310369359387,4.40310369359387,4.40310369359387,4.40310369359387,4.40310369359387,4.40310369359387,4.40310369359387,4.40310369359387,4.40310369359387,4.40310369359387,4.40310369359387,4.478731641545732,4.478731641545732,4.478731641545732,4.478731641545732,4.478731641545732,4.478731641545732,4.478731641545732,4.478731641545732,4.478731641545732,4.478731641545732,4.5543595894975955,4.5543595894975955,4.5543595894975955,4.5543595894975955,4.5543595894975955,4.5543595894975955,4.629987537449457,4.629987537449457,4.629987537449457,4.629987537449457,4.629987537449457,4.629987537449457,4.705615485401321,4.705615485401321,4.781243433353183,4.781243433353183,4.781243433353183,4.781243433353183,4.781243433353183,4.781243433353183,4.856871381305046,4.856871381305046,4.856871381305046,4.932499329256908,4.932499329256908,4.932499329256908,4.932499329256908,4.932499329256908,4.932499329256908,5.0081272772087715,5.083755225160633,5.159383173112497,5.159383173112497,5.235011121064359,5.386267016968084],\"yaxis\":\"y\",\"type\":\"scatter\"},{\"mode\":\"lines\",\"name\":\"LOWESS Trendline\",\"x\":[43.0,45.0,45.0,45.0,46.0,46.0,46.0,46.0,46.0,47.0,47.0,47.0,47.0,48.0,48.0,48.0,49.0,49.0,49.0,49.0,49.0,50.0,50.0,50.0,50.0,50.0,51.0,51.0,51.0,51.0,51.0,51.0,52.0,52.0,52.0,52.0,52.0,53.0,53.0,53.0,53.0,53.0,53.0,53.0,54.0,54.0,54.0,54.0,54.0,54.0,54.0,54.0,54.0,55.0,55.0,55.0,55.0,55.0,55.0,56.0,56.0,56.0,56.0,57.0,57.0,57.0,58.0,58.0,58.0,58.0,59.0,59.0,59.0,59.0,59.0,59.0,59.0,60.0,60.0,60.0,60.0,60.0,60.0,62.0,62.0,62.0,62.0,63.0,63.0,63.0,64.0,64.0,64.0,64.0,65.0,65.0,65.0,66.0,66.0,67.0,68.0,69.0,69.0,70.0,70.0,70.0,70.0,71.0,71.0,71.0,71.0,71.0,72.0,73.0,73.0,73.0,73.0,73.0,73.0,73.0,74.0,74.0,74.0,74.0,74.0,74.0,75.0,75.0,75.0,75.0,75.0,75.0,75.0,75.0,76.0,76.0,76.0,76.0,76.0,76.0,76.0,76.0,76.0,77.0,77.0,77.0,77.0,77.0,77.0,77.0,77.0,77.0,77.0,77.0,77.0,78.0,78.0,78.0,78.0,78.0,78.0,78.0,78.0,78.0,78.0,78.0,78.0,78.0,78.0,78.0,79.0,79.0,79.0,79.0,79.0,79.0,79.0,79.0,79.0,79.0,80.0,80.0,80.0,80.0,80.0,80.0,80.0,80.0,81.0,81.0,81.0,81.0,81.0,81.0,81.0,81.0,81.0,81.0,81.0,81.0,81.0,82.0,82.0,82.0,82.0,82.0,82.0,82.0,82.0,82.0,82.0,82.0,82.0,83.0,83.0,83.0,83.0,83.0,83.0,83.0,83.0,83.0,83.0,83.0,83.0,83.0,83.0,84.0,84.0,84.0,84.0,84.0,84.0,84.0,84.0,84.0,84.0,85.0,85.0,85.0,85.0,85.0,85.0,86.0,86.0,86.0,86.0,86.0,86.0,87.0,87.0,88.0,88.0,88.0,88.0,88.0,88.0,89.0,89.0,89.0,90.0,90.0,90.0,90.0,90.0,90.0,91.0,92.0,93.0,93.0,94.0,96.0],\"y\":[1.9186521424072547,1.9344096504954134,1.9344096504954134,1.9344096504954134,1.9421058219420753,1.9421058219420753,1.9421058219420753,1.9421058219420753,1.9421058219420753,1.9492820922680067,1.9492820922680067,1.9492820922680067,1.9492820922680067,1.9558607302691684,1.9558607302691684,1.9558607302691684,1.962181369241891,1.962181369241891,1.962181369241891,1.962181369241891,1.962181369241891,1.969408997981721,1.969408997981721,1.969408997981721,1.969408997981721,1.969408997981721,1.979785009796234,1.979785009796234,1.979785009796234,1.979785009796234,1.979785009796234,1.979785009796234,1.989714320835026,1.989714320835026,1.989714320835026,1.989714320835026,1.989714320835026,1.9952876010759677,1.9952876010759677,1.9952876010759677,1.9952876010759677,1.9952876010759677,1.9952876010759677,1.9952876010759677,1.9936488499343459,1.9936488499343459,1.9936488499343459,1.9936488499343459,1.9936488499343459,1.9936488499343459,1.9936488499343459,1.9936488499343459,1.9936488499343459,1.99393402379364,1.99393402379364,1.99393402379364,1.99393402379364,1.99393402379364,1.99393402379364,1.9998045945748515,1.9998045945748515,1.9998045945748515,1.9998045945748515,2.0139370252003546,2.0139370252003546,2.0139370252003546,2.038699058321957,2.038699058321957,2.038699058321957,2.038699058321957,2.0955741372199967,2.0955741372199967,2.0955741372199967,2.0955741372199967,2.0955741372199967,2.0955741372199967,2.0955741372199967,2.157900404002252,2.157900404002252,2.157900404002252,2.157900404002252,2.157900404002252,2.157900404002252,2.383589177706359,2.383589177706359,2.383589177706359,2.383589177706359,2.544376577318829,2.544376577318829,2.544376577318829,2.739478107460566,2.739478107460566,2.739478107460566,2.739478107460566,2.9029176379088457,2.9029176379088457,2.9029176379088457,3.053658252690223,3.053658252690223,3.214763931658723,3.380303575331191,3.5786855265101667,3.5786855265101667,3.7849136115718265,3.7849136115718265,3.7849136115718265,3.7849136115718265,3.9459220045987813,3.9459220045987813,3.9459220045987813,3.9459220045987813,3.9459220045987813,4.074872475833141,4.179011278635363,4.179011278635363,4.179011278635363,4.179011278635363,4.179011278635363,4.179011278635363,4.179011278635363,4.253073995783976,4.253073995783976,4.253073995783976,4.253073995783976,4.253073995783976,4.253073995783976,4.318817611180992,4.318817611180992,4.318817611180992,4.318817611180992,4.318817611180992,4.318817611180992,4.318817611180992,4.318817611180992,4.331656770327086,4.331656770327086,4.331656770327086,4.331656770327086,4.331656770327086,4.331656770327086,4.331656770327086,4.331656770327086,4.331656770327086,4.346858683186571,4.346858683186571,4.346858683186571,4.346858683186571,4.346858683186571,4.346858683186571,4.346858683186571,4.346858683186571,4.346858683186571,4.346858683186571,4.346858683186571,4.346858683186571,4.341189350470698,4.341189350470698,4.341189350470698,4.341189350470698,4.341189350470698,4.341189350470698,4.341189350470698,4.341189350470698,4.341189350470698,4.341189350470698,4.341189350470698,4.341189350470698,4.341189350470698,4.341189350470698,4.341189350470698,4.336785127256803,4.336785127256803,4.336785127256803,4.336785127256803,4.336785127256803,4.336785127256803,4.336785127256803,4.336785127256803,4.336785127256803,4.336785127256803,4.332304008228884,4.332304008228884,4.332304008228884,4.332304008228884,4.332304008228884,4.332304008228884,4.332304008228884,4.332304008228884,4.351533317269229,4.351533317269229,4.351533317269229,4.351533317269229,4.351533317269229,4.351533317269229,4.351533317269229,4.351533317269229,4.351533317269229,4.351533317269229,4.351533317269229,4.351533317269229,4.351533317269229,4.353914954332693,4.353914954332693,4.353914954332693,4.353914954332693,4.353914954332693,4.353914954332693,4.353914954332693,4.353914954332693,4.353914954332693,4.353914954332693,4.353914954332693,4.353914954332693,4.363081724880589,4.363081724880589,4.363081724880589,4.363081724880589,4.363081724880589,4.363081724880589,4.363081724880589,4.363081724880589,4.363081724880589,4.363081724880589,4.363081724880589,4.363081724880589,4.363081724880589,4.363081724880589,4.3826565674434494,4.3826565674434494,4.3826565674434494,4.3826565674434494,4.3826565674434494,4.3826565674434494,4.3826565674434494,4.3826565674434494,4.3826565674434494,4.3826565674434494,4.409438439144667,4.409438439144667,4.409438439144667,4.409438439144667,4.409438439144667,4.409438439144667,4.445252114142226,4.445252114142226,4.445252114142226,4.445252114142226,4.445252114142226,4.445252114142226,4.463727351843725,4.463727351843725,4.479656149960105,4.479656149960105,4.479656149960105,4.479656149960105,4.479656149960105,4.479656149960105,4.485016934824078,4.485016934824078,4.485016934824078,4.50688251213341,4.50688251213341,4.50688251213341,4.50688251213341,4.50688251213341,4.50688251213341,4.542260097039768,4.577490663638139,4.610400813055501,4.610400813055501,4.642094388351268,4.709228776366015],\"type\":\"scatter\"}],                        {\"template\":{\"data\":{\"histogram2dcontour\":[{\"type\":\"histogram2dcontour\",\"colorbar\":{\"outlinewidth\":0,\"ticks\":\"\"},\"colorscale\":[[0.0,\"#0d0887\"],[0.1111111111111111,\"#46039f\"],[0.2222222222222222,\"#7201a8\"],[0.3333333333333333,\"#9c179e\"],[0.4444444444444444,\"#bd3786\"],[0.5555555555555556,\"#d8576b\"],[0.6666666666666666,\"#ed7953\"],[0.7777777777777778,\"#fb9f3a\"],[0.8888888888888888,\"#fdca26\"],[1.0,\"#f0f921\"]]}],\"choropleth\":[{\"type\":\"choropleth\",\"colorbar\":{\"outlinewidth\":0,\"ticks\":\"\"}}],\"histogram2d\":[{\"type\":\"histogram2d\",\"colorbar\":{\"outlinewidth\":0,\"ticks\":\"\"},\"colorscale\":[[0.0,\"#0d0887\"],[0.1111111111111111,\"#46039f\"],[0.2222222222222222,\"#7201a8\"],[0.3333333333333333,\"#9c179e\"],[0.4444444444444444,\"#bd3786\"],[0.5555555555555556,\"#d8576b\"],[0.6666666666666666,\"#ed7953\"],[0.7777777777777778,\"#fb9f3a\"],[0.8888888888888888,\"#fdca26\"],[1.0,\"#f0f921\"]]}],\"heatmap\":[{\"type\":\"heatmap\",\"colorbar\":{\"outlinewidth\":0,\"ticks\":\"\"},\"colorscale\":[[0.0,\"#0d0887\"],[0.1111111111111111,\"#46039f\"],[0.2222222222222222,\"#7201a8\"],[0.3333333333333333,\"#9c179e\"],[0.4444444444444444,\"#bd3786\"],[0.5555555555555556,\"#d8576b\"],[0.6666666666666666,\"#ed7953\"],[0.7777777777777778,\"#fb9f3a\"],[0.8888888888888888,\"#fdca26\"],[1.0,\"#f0f921\"]]}],\"heatmapgl\":[{\"type\":\"heatmapgl\",\"colorbar\":{\"outlinewidth\":0,\"ticks\":\"\"},\"colorscale\":[[0.0,\"#0d0887\"],[0.1111111111111111,\"#46039f\"],[0.2222222222222222,\"#7201a8\"],[0.3333333333333333,\"#9c179e\"],[0.4444444444444444,\"#bd3786\"],[0.5555555555555556,\"#d8576b\"],[0.6666666666666666,\"#ed7953\"],[0.7777777777777778,\"#fb9f3a\"],[0.8888888888888888,\"#fdca26\"],[1.0,\"#f0f921\"]]}],\"contourcarpet\":[{\"type\":\"contourcarpet\",\"colorbar\":{\"outlinewidth\":0,\"ticks\":\"\"}}],\"contour\":[{\"type\":\"contour\",\"colorbar\":{\"outlinewidth\":0,\"ticks\":\"\"},\"colorscale\":[[0.0,\"#0d0887\"],[0.1111111111111111,\"#46039f\"],[0.2222222222222222,\"#7201a8\"],[0.3333333333333333,\"#9c179e\"],[0.4444444444444444,\"#bd3786\"],[0.5555555555555556,\"#d8576b\"],[0.6666666666666666,\"#ed7953\"],[0.7777777777777778,\"#fb9f3a\"],[0.8888888888888888,\"#fdca26\"],[1.0,\"#f0f921\"]]}],\"surface\":[{\"type\":\"surface\",\"colorbar\":{\"outlinewidth\":0,\"ticks\":\"\"},\"colorscale\":[[0.0,\"#0d0887\"],[0.1111111111111111,\"#46039f\"],[0.2222222222222222,\"#7201a8\"],[0.3333333333333333,\"#9c179e\"],[0.4444444444444444,\"#bd3786\"],[0.5555555555555556,\"#d8576b\"],[0.6666666666666666,\"#ed7953\"],[0.7777777777777778,\"#fb9f3a\"],[0.8888888888888888,\"#fdca26\"],[1.0,\"#f0f921\"]]}],\"mesh3d\":[{\"type\":\"mesh3d\",\"colorbar\":{\"outlinewidth\":0,\"ticks\":\"\"}}],\"scatter\":[{\"fillpattern\":{\"fillmode\":\"overlay\",\"size\":10,\"solidity\":0.2},\"type\":\"scatter\"}],\"parcoords\":[{\"type\":\"parcoords\",\"line\":{\"colorbar\":{\"outlinewidth\":0,\"ticks\":\"\"}}}],\"scatterpolargl\":[{\"type\":\"scatterpolargl\",\"marker\":{\"colorbar\":{\"outlinewidth\":0,\"ticks\":\"\"}}}],\"bar\":[{\"error_x\":{\"color\":\"#2a3f5f\"},\"error_y\":{\"color\":\"#2a3f5f\"},\"marker\":{\"line\":{\"color\":\"#E5ECF6\",\"width\":0.5},\"pattern\":{\"fillmode\":\"overlay\",\"size\":10,\"solidity\":0.2}},\"type\":\"bar\"}],\"scattergeo\":[{\"type\":\"scattergeo\",\"marker\":{\"colorbar\":{\"outlinewidth\":0,\"ticks\":\"\"}}}],\"scatterpolar\":[{\"type\":\"scatterpolar\",\"marker\":{\"colorbar\":{\"outlinewidth\":0,\"ticks\":\"\"}}}],\"histogram\":[{\"marker\":{\"pattern\":{\"fillmode\":\"overlay\",\"size\":10,\"solidity\":0.2}},\"type\":\"histogram\"}],\"scattergl\":[{\"type\":\"scattergl\",\"marker\":{\"colorbar\":{\"outlinewidth\":0,\"ticks\":\"\"}}}],\"scatter3d\":[{\"type\":\"scatter3d\",\"line\":{\"colorbar\":{\"outlinewidth\":0,\"ticks\":\"\"}},\"marker\":{\"colorbar\":{\"outlinewidth\":0,\"ticks\":\"\"}}}],\"scattermapbox\":[{\"type\":\"scattermapbox\",\"marker\":{\"colorbar\":{\"outlinewidth\":0,\"ticks\":\"\"}}}],\"scatterternary\":[{\"type\":\"scatterternary\",\"marker\":{\"colorbar\":{\"outlinewidth\":0,\"ticks\":\"\"}}}],\"scattercarpet\":[{\"type\":\"scattercarpet\",\"marker\":{\"colorbar\":{\"outlinewidth\":0,\"ticks\":\"\"}}}],\"carpet\":[{\"aaxis\":{\"endlinecolor\":\"#2a3f5f\",\"gridcolor\":\"white\",\"linecolor\":\"white\",\"minorgridcolor\":\"white\",\"startlinecolor\":\"#2a3f5f\"},\"baxis\":{\"endlinecolor\":\"#2a3f5f\",\"gridcolor\":\"white\",\"linecolor\":\"white\",\"minorgridcolor\":\"white\",\"startlinecolor\":\"#2a3f5f\"},\"type\":\"carpet\"}],\"table\":[{\"cells\":{\"fill\":{\"color\":\"#EBF0F8\"},\"line\":{\"color\":\"white\"}},\"header\":{\"fill\":{\"color\":\"#C8D4E3\"},\"line\":{\"color\":\"white\"}},\"type\":\"table\"}],\"barpolar\":[{\"marker\":{\"line\":{\"color\":\"#E5ECF6\",\"width\":0.5},\"pattern\":{\"fillmode\":\"overlay\",\"size\":10,\"solidity\":0.2}},\"type\":\"barpolar\"}],\"pie\":[{\"automargin\":true,\"type\":\"pie\"}]},\"layout\":{\"autotypenumbers\":\"strict\",\"colorway\":[\"#636efa\",\"#EF553B\",\"#00cc96\",\"#ab63fa\",\"#FFA15A\",\"#19d3f3\",\"#FF6692\",\"#B6E880\",\"#FF97FF\",\"#FECB52\"],\"font\":{\"color\":\"#2a3f5f\"},\"hovermode\":\"closest\",\"hoverlabel\":{\"align\":\"left\"},\"paper_bgcolor\":\"white\",\"plot_bgcolor\":\"#E5ECF6\",\"polar\":{\"bgcolor\":\"#E5ECF6\",\"angularaxis\":{\"gridcolor\":\"white\",\"linecolor\":\"white\",\"ticks\":\"\"},\"radialaxis\":{\"gridcolor\":\"white\",\"linecolor\":\"white\",\"ticks\":\"\"}},\"ternary\":{\"bgcolor\":\"#E5ECF6\",\"aaxis\":{\"gridcolor\":\"white\",\"linecolor\":\"white\",\"ticks\":\"\"},\"baxis\":{\"gridcolor\":\"white\",\"linecolor\":\"white\",\"ticks\":\"\"},\"caxis\":{\"gridcolor\":\"white\",\"linecolor\":\"white\",\"ticks\":\"\"}},\"coloraxis\":{\"colorbar\":{\"outlinewidth\":0,\"ticks\":\"\"}},\"colorscale\":{\"sequential\":[[0.0,\"#0d0887\"],[0.1111111111111111,\"#46039f\"],[0.2222222222222222,\"#7201a8\"],[0.3333333333333333,\"#9c179e\"],[0.4444444444444444,\"#bd3786\"],[0.5555555555555556,\"#d8576b\"],[0.6666666666666666,\"#ed7953\"],[0.7777777777777778,\"#fb9f3a\"],[0.8888888888888888,\"#fdca26\"],[1.0,\"#f0f921\"]],\"sequentialminus\":[[0.0,\"#0d0887\"],[0.1111111111111111,\"#46039f\"],[0.2222222222222222,\"#7201a8\"],[0.3333333333333333,\"#9c179e\"],[0.4444444444444444,\"#bd3786\"],[0.5555555555555556,\"#d8576b\"],[0.6666666666666666,\"#ed7953\"],[0.7777777777777778,\"#fb9f3a\"],[0.8888888888888888,\"#fdca26\"],[1.0,\"#f0f921\"]],\"diverging\":[[0,\"#8e0152\"],[0.1,\"#c51b7d\"],[0.2,\"#de77ae\"],[0.3,\"#f1b6da\"],[0.4,\"#fde0ef\"],[0.5,\"#f7f7f7\"],[0.6,\"#e6f5d0\"],[0.7,\"#b8e186\"],[0.8,\"#7fbc41\"],[0.9,\"#4d9221\"],[1,\"#276419\"]]},\"xaxis\":{\"gridcolor\":\"white\",\"linecolor\":\"white\",\"ticks\":\"\",\"title\":{\"standoff\":15},\"zerolinecolor\":\"white\",\"automargin\":true,\"zerolinewidth\":2},\"yaxis\":{\"gridcolor\":\"white\",\"linecolor\":\"white\",\"ticks\":\"\",\"title\":{\"standoff\":15},\"zerolinecolor\":\"white\",\"automargin\":true,\"zerolinewidth\":2},\"scene\":{\"xaxis\":{\"backgroundcolor\":\"#E5ECF6\",\"gridcolor\":\"white\",\"linecolor\":\"white\",\"showbackground\":true,\"ticks\":\"\",\"zerolinecolor\":\"white\",\"gridwidth\":2},\"yaxis\":{\"backgroundcolor\":\"#E5ECF6\",\"gridcolor\":\"white\",\"linecolor\":\"white\",\"showbackground\":true,\"ticks\":\"\",\"zerolinecolor\":\"white\",\"gridwidth\":2},\"zaxis\":{\"backgroundcolor\":\"#E5ECF6\",\"gridcolor\":\"white\",\"linecolor\":\"white\",\"showbackground\":true,\"ticks\":\"\",\"zerolinecolor\":\"white\",\"gridwidth\":2}},\"shapedefaults\":{\"line\":{\"color\":\"#2a3f5f\"}},\"annotationdefaults\":{\"arrowcolor\":\"#2a3f5f\",\"arrowhead\":0,\"arrowwidth\":1},\"geo\":{\"bgcolor\":\"white\",\"landcolor\":\"#E5ECF6\",\"subunitcolor\":\"white\",\"showland\":true,\"showlakes\":true,\"lakecolor\":\"white\"},\"title\":{\"x\":0.05},\"mapbox\":{\"style\":\"light\"}}},\"xaxis\":{\"anchor\":\"y\",\"domain\":[0.0,1.0],\"title\":{\"text\":\"waiting\"}},\"yaxis\":{\"anchor\":\"x\",\"domain\":[0.0,1.0],\"title\":{\"text\":\"duration\"}},\"legend\":{\"tracegroupgap\":0},\"title\":{\"text\":\"Old Faithful Geyser Eruptions\"}},                        {\"responsive\": true}                    ).then(function(){\n",
       "                            \n",
       "var gd = document.getElementById('51a3a3af-88bd-4574-8396-8579aa7e7c51');\n",
       "var x = new MutationObserver(function (mutations, observer) {{\n",
       "        var display = window.getComputedStyle(gd).display;\n",
       "        if (!display || display === 'none') {{\n",
       "            console.log([gd, 'removed!']);\n",
       "            Plotly.purge(gd);\n",
       "            observer.disconnect();\n",
       "        }}\n",
       "}});\n",
       "\n",
       "// Listen for the removal of the full notebook cells\n",
       "var notebookContainer = gd.closest('#notebook-container');\n",
       "if (notebookContainer) {{\n",
       "    x.observe(notebookContainer, {childList: true});\n",
       "}}\n",
       "\n",
       "// Listen for the clearing of the current output cell\n",
       "var outputEl = gd.closest('.output');\n",
       "if (outputEl) {{\n",
       "    x.observe(outputEl, {childList: true});\n",
       "}}\n",
       "\n",
       "                        })                };                });            </script>        </div>"
      ]
     },
     "metadata": {},
     "output_type": "display_data"
    }
   ],
   "source": [
    "import plotly.express as px\n",
    "import seaborn as sns\n",
    "import statsmodels.api as sm\n",
    "\n",
    "# The \"Classic\" Old Faithful Geyser dataset: ask a ChatBot for more details if desired\n",
    "old_faithful = sns.load_dataset('geyser')\n",
    "\n",
    "# Create a scatter plot with a Simple Linear Regression trendline\n",
    "fig = px.scatter(old_faithful, x='waiting', y='duration', \n",
    "                 title=\"Old Faithful Geyser Eruptions\", \n",
    "                 trendline='ols')#'lowess'\n",
    "\n",
    "# Add a smoothed LOWESS Trendline to the scatter plot\n",
    "lowess = sm.nonparametric.lowess  # Adjust 'frac' to change \"smoothness bandwidth\"\n",
    "smoothed = lowess(old_faithful['duration'], old_faithful['waiting'], frac=0.25)  \n",
    "smoothed_df = pd.DataFrame(smoothed, columns=['waiting', 'smoothed_duration'])\n",
    "fig.add_scatter(x=smoothed_df['waiting'], y=smoothed_df['smoothed_duration'], \n",
    "                mode='lines', name='LOWESS Trendline')\n",
    "\n",
    "fig.show() # USE `fig.show(renderer=\"png\")` FOR ALL GitHub and MarkUs SUBMISSIONS"
   ]
  },
  {
   "cell_type": "markdown",
   "id": "b0db85ec",
   "metadata": {},
   "source": [
    "### 8. Specify a *null hypothesis* of \"no linear association (on average)\" in terms of the relevant *parameter* of the *Simple Linear Regression* model, and use the code below to characterize the evidence in the data relative to the *null hypothesis* and interpret your subsequent beliefs regarding the Old Faithful Geyser dataset.<br>\n",
    "\n",
    "<details class=\"details-example\"><summary style=\"color:blue\"><u>Further Guidance</u></summary>\n",
    "\n",
    "> _Remember that **Hypothesis Testing** is not a \"mathematical proof\"_\n",
    ">\n",
    "> - _We do not prove $H_0$ false, we instead give evidence against the $H_0$: \"We reject the null hypothesis with a p-value of XYZ, meaning we have ABC evidence against the null hypothesis\"_\n",
    "> - _We do not prove $H_0$ is true, we instead do not have evidence to reject $H_0$: \"We fail to reject the null hypothesis with a p-value of XYZ\"_\n",
    "\n",
    "|p-value|Evidence|\n",
    "|-|-|\n",
    "|$$p > 0.1$$|No evidence against the null hypothesis|\n",
    "|$$0.1 \\ge p > 0.05$$|Weak evidence against the null hypothesis|\n",
    "|$$0.05 \\ge p > 0.01$$|Moderate evidence against the null hypothesis|\n",
    "|$$0.01 \\ge p > 0.001$$|Strong evidence against the null hypothesis|\n",
    "|$$0.001 \\ge p$$|Very strong evidence against the null hypothesis|\n",
    "\n",
    "</details>    \n",
    "\n",
    "> ```python\n",
    "> import seaborn as sns\n",
    "> import statsmodels.formula.api as smf\n",
    ">\n",
    "> # The \"Classic\" Old Faithful Geyser dataset\n",
    "> old_faithful = sns.load_dataset('geyser')\n",
    "> \n",
    "> linear_for_specification = 'duration ~ waiting'\n",
    "> model = smf.ols(linear_for_specification, data=old_faithful)\n",
    "> fitted_model = model.fit()\n",
    "> fitted_model.summary()\n",
    "> ```\n"
   ]
  },
  {
   "cell_type": "markdown",
   "id": "bd719fef",
   "metadata": {},
   "source": [
    "### 9. As seen in the introductory figure above, if the delay of the geyser eruption since the previous geyser eruption exceeds approximately 63 minutes, there is a notable increase in the duration of the geyser eruption itself. In the figure below we therefore restrict the dataset to only short wait times. Within the context of only short wait times, is there evidence in the data for a relationship between duration and wait time in the same manner as in the full data set? Using the following code, characterize the evidence against the *null hypothesis* in the context of short wait times which are less than  *short_wait_limit* values of *62*, *64*, *66*.<br>\n"
   ]
  },
  {
   "cell_type": "code",
   "execution_count": null,
   "id": "f0cd0ffd",
   "metadata": {},
   "outputs": [],
   "source": [
    "import plotly.express as px\n",
    "import statsmodels.formula.api as smf\n",
    "\n",
    "\n",
    "short_wait_limit = 62 # 64 # 66 #\n",
    "short_wait = old_faithful.waiting < short_wait_limit\n",
    "\n",
    "print(smf.ols('duration ~ waiting', data=old_faithful[short_wait]).fit().summary().tables[1])\n",
    "\n",
    "# Create a scatter plot with a linear regression trendline\n",
    "fig = px.scatter(old_faithful[short_wait], x='waiting', y='duration', \n",
    "                 title=\"Old Faithful Geyser Eruptions for short wait times (<\"+str(short_wait_limit)+\")\", \n",
    "                 trendline='ols')\n",
    "\n",
    "fig.show() # USE `fig.show(renderer=\"png\")` FOR ALL GitHub and MarkUs SUBMISSIONS"
   ]
  },
  {
   "cell_type": "markdown",
   "id": "009bfa79",
   "metadata": {},
   "source": [
    "### 10. Let's now consider just the (*n=160*) long wait times (as specified in the code below), and write code to do the following:\n",
    "\n",
    "1. create fitted **Simple Linear Regression** models for **boostrap samples** and collect and visualize the **bootstrapped sampling distribution** of the **fitted slope coefficients** of the fitted models;  \n",
    "\n",
    "\n",
    "2. **simulate** samples (of size `n=160`) from a **Simple Linear Regression** model that uses $\\beta_0 = 1.65$, $\\beta_1 = 0$, $\\sigma = 0.37$ along with the values of `waiting` for $x$ to create **simuations** of $Y$ and use these collect and visualize the **sampling distribution** of the **fitted slope coefficient** under a **null hypothesis** assumption of \"no linear association (on average)\"; then,  \n",
    "\n",
    "\n",
    "3. report if $0$ is contained within a 95\\% **bootstrapped confidence interval**; and if the **simulated p-value** matches `smf.ols('duration ~ waiting', data=old_faithful[long_wait]).fit().summary().tables[1]`?<br><br>\n",
    "\n",
    "<details class=\"details-example\"><summary style=\"color:blue\"><u>Further Guidance</u></summary>\n",
    "\n",
    "> _You'll need to create `for` loops to repeatedly create fitted **Simple Linear Regression** models using different samples, collecting the **fitted slope coeffient** created in each `for` loop \"step\" in order to visualize the **simulated sampling distributions**_\n",
    "> \n",
    "> - _A **bootstrapped sample** of the \"long wait times\" dataset can be created with `old_faithful[long_wait].sample(n=long_wait.sum(), replace=True)`_\n",
    ">\n",
    ">\n",
    "> - _A **simulated** version of the \"long wait times under a null hypothesis assumption of **no linear association (on average)**\" dataset can be created by first creating `old_faithful_simulation = old_faithful[long_wait].copy()` and then assigning the **simulated** it values with `old_faithful_simulation['duration'] = 1.65 + 0*old_faithful_simulation.waiting + stats.norm(loc=0, scale=0.37).rvs(size=long_wait.sum())`_ \n",
    ">\n",
    ">  _The values $\\beta_0 = 1.65$ and $\\sigma = 0.37$ are chosen to match what is actually observed in the data, while $\\beta_1 = 0$ is chosen to reflect a **null hypothesis** assumption of \"no linear assocaition (on average)\"; and, make sure that you understand why it is that_\n",
    ">\n",
    ">\n",
    "> - _if `bootstrapped_slope_coefficients` is the `np.array` of your **bootstrapped slope coefficients** then `np.quantile(bootstrapped_slope_coefficients, [0.025, 0.975])` is a 95\\% **bootstrapped confidence interval**_\n",
    "> \n",
    ">\n",
    "> - _if `simulated_slope_coefficients` is the `np.array` of your **fitted slope coefficients** **simulated** under a **null hypothesis** \"no linear association (on average)\" then `(np.abs(simulated_slope_coefficients) >= smf.ols('duration ~ waiting', data=old_faithful[long_wait]).fit().params[1]).mean()` is the **p-value** for the **simulated** **simulated sampling distribution of the slope coeficients** under a **null hypothesis** \"no linear association (on average)\"_\n",
    "\n",
    "</details>\n",
    "<br>"
   ]
  },
  {
   "cell_type": "code",
   "execution_count": null,
   "id": "7c246ca4",
   "metadata": {},
   "outputs": [],
   "source": [
    "import plotly.express as px\n",
    "\n",
    "long_wait_limit = 71\n",
    "long_wait = old_faithful.waiting > long_wait_limit\n",
    "\n",
    "print(smf.ols('duration ~ waiting', data=old_faithful[long_wait]).fit().summary().tables[1])\n",
    "\n",
    "# Create a scatter plot with a linear regression trendline\n",
    "fig = px.scatter(old_faithful[long_wait], x='waiting', y='duration', \n",
    "                 title=\"Old Faithful Geyser Eruptions for short wait times (>\"+str(long_wait_limit)+\")\", \n",
    "                 trendline='ols')\n",
    "fig.show() # USE `fig.show(renderer=\"png\")` FOR ALL GitHub and MarkUs SUBMISSIONS"
   ]
  },
  {
   "cell_type": "markdown",
   "id": "a1163d93",
   "metadata": {},
   "source": [
    "### 11. Since we've considered wait times of around <64  \"short\" and wait times of >71 \"long\", let's instead just divide the data and insead call wait times of <68 \"short\" and otherwise just call them \"long\". Consider the *Simple Linear Regression* model specification using an *indicator variable* of the wait time length<br>\n",
    "\n",
    "$$\\large Y_i = \\beta_{\\text{intercept}} + 1_{[\\text{\"long\"}]}(\\text{k_i})\\beta_{\\text{contrast}} + \\epsilon_i \\quad \\text{ where } \\quad \\epsilon_i \\sim \\mathcal N\\left(0, \\sigma\\right)$$\n",
    "\n",
    "### where we use $k_i$ (rather than $x_i$) (to refer to the \"kind\" or \"katagory\" or \"kontrast\") column (that you may have noticed was already a part) of the original dataset; and, explain the \"big picture\" differences between this model specification and the previously considered model specifications<br>\n",
    "\n",
    "1. `smf.ols('duration ~ waiting', data=old_faithful)`\n",
    "2. `smf.ols('duration ~ waiting', data=old_faithful[short_wait])`\n",
    "3. `smf.ols('duration ~ waiting', data=old_faithful[long_wait])`\n",
    "\n",
    "### and report the evidence against a *null hypothesis* of \"no difference between groups \"on average\") for the new *indicator variable* based model<br>\n"
   ]
  },
  {
   "cell_type": "code",
   "execution_count": null,
   "id": "1efc4f93",
   "metadata": {},
   "outputs": [],
   "source": [
    "from IPython.display import display\n",
    "\n",
    "display(smf.ols('duration ~ C(kind, Treatment(reference=\"short\"))', data=old_faithful).fit().summary().tables[1])\n",
    "\n",
    "fig = px.box(old_faithful, x='kind', y='duration', \n",
    "             title='duration ~ kind',\n",
    "             category_orders={'kind': ['short', 'long']})\n",
    "fig.show() # USE `fig.show(renderer=\"png\")` FOR ALL GitHub and MarkUs SUBMISSIONS"
   ]
  },
  {
   "cell_type": "markdown",
   "id": "3fee975f",
   "metadata": {},
   "source": [
    "<details class=\"details-example\"><summary style=\"color:blue\"><u>Further Guidance</u></summary>\n",
    "\n",
    "> _Don't forget to ask for summaries of all your different ChatBot sessions and organize and paste these into your homework notebook (including link(s) to chat log histories if you're using ChatBot) But if you're using the STA130 custom NBLM ChatBot, you'll only be able to ask for summaries, of course!_  \n",
    "</details>"
   ]
  },
  {
   "cell_type": "markdown",
   "id": "0f288839",
   "metadata": {},
   "source": [
    "### 12. Identify which of the histograms suggests the plausibility of the assumption that the distribution of *error* terms is normal for each of the models, and explain why the other three do not support this assumption.\n",
    "\n",
    "> Hint: Question 5 of the *Communication Activity #2* of the Oct25 TUT (addressing an *omitted* section of the TUT) discusses how the assumption in *Simple Linear Regression* that the *error* terms $\\epsilon_i \\sim \\mathcal N\\left(0, \\sigma\\right)$ is diagnostically assessed by evaluating distributional shape of the *residuals* $\\text{e}_i = \\hat \\epsilon_i = Y_i - \\hat y_i$\n"
   ]
  },
  {
   "cell_type": "code",
   "execution_count": null,
   "id": "337e3a5f",
   "metadata": {
    "scrolled": false
   },
   "outputs": [],
   "source": [
    "from plotly.subplots import make_subplots\n",
    "import plotly.graph_objects as go\n",
    "from scipy import stats\n",
    "import numpy as np\n",
    "\n",
    "model_residuals = {\n",
    "    '<br>Model 1:<br>All Data using slope': smf.ols('duration ~ waiting', data=old_faithful).fit().resid,\n",
    "    '<br>Model 2:<br>Short Wait Data': smf.ols('duration ~ waiting', data=old_faithful[short_wait]).fit().resid,\n",
    "    '<br>Model 3:<br>Long Wait Data': smf.ols('duration ~ waiting', data=old_faithful[long_wait]).fit().resid,\n",
    "    '<br>Model 4:<br>All Data using indicator': smf.ols('duration ~ C(kind, Treatment(reference=\"short\"))', data=old_faithful).fit().resid\n",
    "}\n",
    "\n",
    "fig = make_subplots(rows=2, cols=2, subplot_titles=list(model_residuals.keys()))\n",
    "for i, (title, resid) in enumerate(model_residuals.items()):\n",
    "\n",
    "    if i == 1:  # Apply different bins only to the second histogram (index 1)\n",
    "        bin_size = dict(start=-1.9, end=1.9, size=0.2)\n",
    "    else:\n",
    "        bin_size = dict(start=-1.95, end=1.95, size=0.3)\n",
    "\n",
    "    fig.add_trace(go.Histogram(x=resid, name=title, xbins=bin_size, histnorm='probability density'), \n",
    "                  row=int(i/2)+1, col=(i%2)+1)\n",
    "    fig.update_xaxes(title_text=\"n=\"+str(len(resid)), row=int(i/2)+1, col=(i%2)+1)    \n",
    "    \n",
    "    normal_range = np.arange(-3*resid.std(),3*resid.std(),0.01)\n",
    "    fig.add_trace(go.Scatter(x=normal_range, mode='lines', opacity=0.5,\n",
    "                             y=stats.norm(loc=0, scale=resid.std()).pdf(normal_range),\n",
    "                             line=dict(color='black', dash='dot', width=2),\n",
    "                             name='Normal Distribution<br>(99.7% of its area)'), \n",
    "                  row=int(i/2)+1, col=(i%2)+1)\n",
    "    \n",
    "fig.update_layout(title_text='Histograms of Residuals from Different Models')\n",
    "fig.update_xaxes(range=[-2,2])\n",
    "fig.show() # USE `fig.show(renderer=\"png\")` FOR ALL GitHub and MarkUs SUBMISSIONS"
   ]
  },
  {
   "cell_type": "markdown",
   "id": "f7413283",
   "metadata": {},
   "source": [
    "### 13. The \"short\" and \"long\" wait times are not \"before and after\" measurements so there are not natural pairs on which to base differences on which to do a \"one sample\" (paired differences) *hypothesis test*; but, we can do \"two sample\" hypothesis testing using a *permuation test*, or create a 95% *bootstrap confidence interval* for the difference in means of the two populations. \n",
    "\n",
    "### (A) Do a permuation test $\\;H_0: \\mu_{\\text{short}}=\\mu_{\\text{long}} \\; \\text{ no difference in duration between short and long groups}$ by \"shuffling\" the labels\n",
    "### (B) Create a 95% bootstrap confidence interval  by repeatedly bootstrapping within each group and applying *np.quantile(bootstrapped_mean_differences, [0.025, 0.975])* to the collection of differences between the sample means.    \n",
    "### (a) Explain how the sampling approaches work for the two simulations.\n",
    "### (b) Compare and contrast these two methods with the *indicator variable* based model approach used in Question 11, explaining how they're similar and different.<br>\n",
    "    \n",
    "<details class=\"details-example\"><summary style=\"color:blue\"><u>Further Guidance</u></summary>\n",
    "\n",
    "> _You'll need to create `for` loops for repeated (shuffling simulation) **permutation** and (subgroup) **bootstrapping**, where_\n",
    ">\n",
    "> - _\"shuffling\" for **permutation testing** is done like this `old_faithful.assign(kind_shuffled=old_faithful['kind'].sample(n=len(old_faithful), replace=False).values)#.groupby('kind').size()`; then, the **mean difference statistic** is then calculated using `.groupby('kind_shuffled')['duration'].mean().iloc[::-1].diff().values[1]` (so the **observed statistic** is `old_faithful.groupby('kind')['duration'].mean().iloc[::-1].diff().values[1]`_\n",
    "> \n",
    ">\n",
    "> - _\"two sample\" **bootstrapping** is done like this `old_faithful.groupby('kind').apply(lambda x: x.sample(n=len(x), replace=True)).reset_index(drop=True)#.groupby('kind').size()`; then, the **bootstrapped mean difference statistic** is then calculated using `.groupby('kind')['duration'].mean().iloc[::-1].diff().values[1]` (like the **observed statistic** except this is applied to the **bootstrapped** resampling of `old_faithful`)_\n",
    "> ---\n",
    "> \n",
    "> _Don't forget to ask for summaries of all your different ChatBot sessions and organize and paste these into your homework notebook (including link(s) to chat log histories if you're using ChatBot) But if you're using the STA130 custom NBLM ChatBot, you'll only be able to ask for summaries, of course!_\n",
    "</details>"
   ]
  },
  {
   "cell_type": "markdown",
   "id": "06fe02c1",
   "metadata": {},
   "source": [
    "### 14. Have you reviewed the course wiki-textbook and interacted with a ChatBot (or, if that wasn't sufficient, real people in the course piazza discussion board or TA office hours) to help you understand all the material in the tutorial and lecture that you didn't quite follow when you first saw it?<br>\n",
    "\n",
    "Yes"
   ]
  },
  {
   "cell_type": "markdown",
   "id": "bc0639e8",
   "metadata": {},
   "source": [
    "## Recommended Additional Useful Activities [Optional]\n",
    "\n",
    "The \"Ethical Profesionalism Considerations\" and \"Current Course Project Capability Level\" sections below **are not a part of the required homework assignment**; rather, they are regular weekly guides covering (a) relevant considerations regarding professional and ethical conduct, and (b) the analysis steps for the STA130 course project that are feasible at the current stage of the course \n",
    "\n",
    "<br>\n",
    "<details class=\"details-example\"><summary style=\"color:blue\"><u>Ethical Professionalism Considerations</u></summary>\n",
    "\n",
    "### Ethical Professionalism Considerations\n",
    "    \n",
    "The TUT and HW both addressed some of the assumptions used in **Simple Linear Regression**. The **p-values** provided by `statsmodels` via `smf.ols(...).fit()` depend on these assumptions, so if they are not (at least approximately) correct, the **p-values** (and any subsequent claims regarding the \"evidience against\" the **null hypothesis**) are not reliable. In light of this consideration, describe how you could diagnostically check the first three assumptions (given below) when using analyses based on **Simple Linear regression** model. From an Ethical and Professional perspective, do you think doing diagnostic checks on the assumptions of a **Simple Linear regression** model is something you can and should do whenever you're doing this kind of analysis? \n",
    "            \n",
    "> The first three assumptions associated with the **Simple Linear regression** model are that\n",
    "> \n",
    "> - the $\\epsilon_i$ **errors** (sometimes referred to as the **noise**) are **normally distributed**\n",
    "> - the $\\epsilon_i$ **errors** are **homoscedastic** (so their distributional variance $\\sigma^2$ does not change as a function of $x_i$)\n",
    "> - the linear form is [at least reasonably approximately] \"true\" (in the sense that the above two remain [at least reasonably approximately] \"true\") so that then behavior of the $Y_i$ **outcomes** are represented/determined on average by the **linear equation**)<br>\n",
    "> \n",
    ">    and there are additional assumptions; but, a deeper reflection on these is \"beyond the scope\" of STA130; nonetheless, they are that<br><br>\n",
    "> - the $x_i$ **predictor variable** is **measured without error**\n",
    "> - and the $\\epsilon_i$ **errors** are **statistically independent** (so their values do not depend on each other)\n",
    "> - and the $\\epsilon_i$ **errors** are **unbiased** relative to the **expected value** of **outcome** $E[Y_i|x_i]=\\beta_0 + \\beta_1x_i$ (which is equivalently stated by saying that the mean of the **error distribution** is $0$, or again equivalently, that the **expected value** of the **errors** $E[\\epsilon_i] = 0$)\n",
    "    \n",
    "</details>\n",
    "\n",
    "<details class=\"details-example\"><summary style=\"color:blue\"><u>Current Course Project Capability Level</u></summary>\n",
    "\n",
    "**Remember to abide by the [data use agreement](https://static1.squarespace.com/static/60283c2e174c122f8ebe0f39/t/6239c284d610f76fed5a2e69/1647952517436/Data+Use+Agreement+for+the+Canadian+Social+Connection+Survey.pdf) at all times.**\n",
    "\n",
    "Information about the course project is available on the course github repo [here](https://github.com/pointOfive/stat130chat130/tree/main/CP), including a draft [course project specfication](https://github.com/pointOfive/stat130chat130/blob/main/CP/STA130F23_course_project_specification.ipynb) (subject to change). \n",
    "- The Week 01 HW introduced [STA130F24_CourseProject.ipynb](https://github.com/pointOfive/stat130chat130/blob/main/CP/STA130F24_CourseProject.ipynb), and the [available variables](https://drive.google.com/file/d/1ISVymGn-WR1lcRs4psIym2N3or5onNBi/view). \n",
    "- Please do not download the [data](https://drive.google.com/file/d/1mbUQlMTrNYA7Ly5eImVRBn16Ehy9Lggo/view) accessible at the bottom of the [CSCS](https://casch.org/cscs) webpage (or the course github repo) multiple times.\n",
    "    \n",
    "> ### NEW DEVELOPMENT<br>New Abilities Achieved and New Levels Unlocked!!!    \n",
    "> **As noted, the Week 01 HW introduced the [STA130F24_CourseProject.ipynb](https://github.com/pointOfive/stat130chat130/blob/main/CP/STA130F24_CourseProject.ipynb) notebook.** _And there it instructed students to explore the notebook through the first 16 cells of the notebook._ The following cell in that notebook (there marked as \"run cell 17\") is preceded by an introductory section titled, \"**Now for some comparisons...**\", _**and all material from that point on provides an example to allow you to start applying what you're learning about Hypothesis Testing to the CSCS data**_ **using a paired samples (\"one sample\") framework.**\n",
    ">\n",
    "> **NOW, HOWEVER, YOU CAN DO MORE.** \n",
    "> - _**Now you can do \"two sample\" hypothesis testing without the need for paired samples.**_ All you need are two groups.\n",
    "> - _**And now you can do simple linear regression modeling.**_ All you need are two columns.\n",
    "\n",
    "### Current Course Project Capability Level\n",
    "\n",
    "At this point in the course you should be able to do a **Simple Linear Regression** analysis for data from the Canadian Social Connection Survey data\n",
    "    \n",
    "1. Create and test a **null hypothesis** of no linear association \"on average\" for a couple of columns of interest in the Canadian Social Connection Survey data using **Simple Linear Regression**\n",
    "\n",
    "2. Use the **residuals** of a fitted **Simple Linear Regression** model to diagnostically assess some of the assumptions of the analysis\n",
    "\n",
    "3. Use an **indicator variable** based **Simple Linear Regression** model to compare two groups from the Canadian Social Connection Survey data\n",
    "\n",
    "4. Compare and contrast the results of an **indicator variable** based **Simple Linear Regression** model to analyses based on a **permutation test** and a **bootstrapped confidence interval**   \n",
    "    \n",
    "</details>    "
   ]
  },
  {
   "cell_type": "code",
   "execution_count": null,
   "id": "4b4a0b4d",
   "metadata": {},
   "outputs": [],
   "source": []
  }
 ],
 "metadata": {
  "kernelspec": {
   "display_name": "Python 3 (ipykernel)",
   "language": "python",
   "name": "python3"
  },
  "language_info": {
   "codemirror_mode": {
    "name": "ipython",
    "version": 3
   },
   "file_extension": ".py",
   "mimetype": "text/x-python",
   "name": "python",
   "nbconvert_exporter": "python",
   "pygments_lexer": "ipython3",
   "version": "3.11.6"
  }
 },
 "nbformat": 4,
 "nbformat_minor": 5
}
