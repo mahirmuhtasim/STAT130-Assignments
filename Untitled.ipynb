{
 "cells": [
  {
   "cell_type": "markdown",
   "id": "e638cd4f",
   "metadata": {},
   "source": [
    "### Research Question\n",
    "The question is \"What is the average loneliness rate by age group and how does this relate to the number and quality of social connections?\" The aim of the study is to estimate average loneliness levels against age of different people in the research survey, and use this to determine whether there is an association between social connections and loneliness, grouped by age. In this case, the population parameter being estimated is the mean loneliness score of the population. The corelation of variables loneliness level and meaningful social connections are also being measured."
   ]
  },
  {
   "cell_type": "markdown",
   "id": "0852e50a",
   "metadata": {},
   "source": [
    "### Variables of interest\n",
    "To measure loneliness the variable \"LONELY_ucla_loneliness_scale_score\" could be used as a combination of the information regarding different aspects of loneliness gathered through the survey and set a numerical value using a proven consistent scale (The UCLLA Loneliness Scale). This is ideal compared to other categorical variables such as \"LONELY_ucla_loneliness_scale_score_y_n\" as it helps in modelling a distribution to estimate the population mean through bootstrapping, while also having a sizable sample to draw values from. Besides, box plots could be used to illustrate the sample statistic, the mean loneliness score, divided by age group for visual comparison. A scatter plot can also be used to help model the variable \"LONELY_ucla_loneliness_scale_score\" against the \"CONNECTION_social_num_close_friends\" and even other variables such as \"CONNECTION_meaningful_interactions\" which are likely to affect loneliness levels. This analysis employs linear regression to model the correlation between the number of social connections, the frequency of meaningful interactions, and loneliness scores. By examining these relationships, we aim to provide evidence that higher levels of social connections and more frequent meaningful interactions are associated with lower loneliness scores. While this analysis can suggest a correlation, establishing causation will require further investigation."
   ]
  },
  {
   "cell_type": "markdown",
   "id": "ad0a82a3",
   "metadata": {},
   "source": [
    "### Analysis\n",
    "Data preprocessing will involve handling missing values using methods such as dropna() to ensure that only complete cases are included in the analysis. This step is crucial for maintaining the integrity of our results. Afterwards, it would be helpful to use df.describe() to calculate the descriptive statistics of each population being measured. This would hihglight the mean, median, standard deviation, and range, which will provide a summary of the data's central tendency and variability. Using an unpaired hypothesis test would help verify the relation between the loneliness score and social connections. Unpaired test is used as there is no chenge over time represented in these variables, even though they are colected from the same population. Since they are meant to show different distributions, this would help verify their close correlation. Regression Analysis with Interaction Terms: A multiple regression model with loneliness as the outcome variable, and social connections, age, and their interaction term as predictors, will test if the association between social connections and loneliness varies by age group. Alternatively, using two simple linear regression models with each of the two social connections variables against loneliness score, highlighting the difference in how they affect the loneliness individually. Assumptions: Normality of loneliness scores within age groups for meaningful interpretation of means. Linearity between social connections and loneliness to use regression analysis. Independence of Observations within the dataset, assuming participants’ responses are independent."
   ]
  },
  {
   "cell_type": "markdown",
   "id": "cb6954fd",
   "metadata": {},
   "source": [
    "### Hypothesis and results\n",
    "Null Hypothesis (H0): There is no association between social connections (number of close friends and frequency of meaningful interactions) and loneliness scores across age groups. Alternative Hypothesis (H1): There is a statistically significant association between social connections and loneliness scores, and the strength of this association varies across age groups.\n",
    "\n",
    "If the hypothesis is supported, it will suggest that the impact of social connections on loneliness differs with age, potentially informing age-specific interventions. For example, younger adults may benefit from increasing the number of social interactions, while older adults may benefit more from fostering meaningful interactions.suggest these improvements"
   ]
  }
 ],
 "metadata": {
  "kernelspec": {
   "display_name": "Python 3 (ipykernel)",
   "language": "python",
   "name": "python3"
  },
  "language_info": {
   "codemirror_mode": {
    "name": "ipython",
    "version": 3
   },
   "file_extension": ".py",
   "mimetype": "text/x-python",
   "name": "python",
   "nbconvert_exporter": "python",
   "pygments_lexer": "ipython3",
   "version": "3.11.6"
  }
 },
 "nbformat": 4,
 "nbformat_minor": 5
}
